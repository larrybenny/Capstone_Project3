{
 "cells": [
  {
   "cell_type": "code",
   "execution_count": 1,
   "id": "5f7fe980",
   "metadata": {},
   "outputs": [],
   "source": [
    "import pandas as pd\n",
    "import numpy as np\n",
    "from sklearn.preprocessing import StandardScaler, OrdinalEncoder,LabelEncoder\n",
    "from sklearn.linear_model import LogisticRegression\n",
    "from statsmodels.stats.outliers_influence import variance_inflation_factor\n",
    "from sklearn.metrics import accuracy_score, confusion_matrix, roc_curve, roc_auc_score,classification_report\n",
    "import matplotlib.pyplot as plt\n",
    "import seaborn as sns\n",
    "from sklearn.decomposition import PCA\n",
    "import warnings\n",
    "warnings.filterwarnings('ignore')"
   ]
  },
  {
   "cell_type": "code",
   "execution_count": 2,
   "id": "29f819e6",
   "metadata": {},
   "outputs": [],
   "source": [
    "Table1 = pd.read_csv('Table1_csv')\n",
    "Table2 = pd.read_csv('Table2_csv')\n",
    "Table3 = pd.read_csv('Table3_csv')"
   ]
  },
  {
   "cell_type": "code",
   "execution_count": 3,
   "id": "bedbb33d",
   "metadata": {},
   "outputs": [
    {
     "data": {
      "text/html": [
       "<div>\n",
       "<style scoped>\n",
       "    .dataframe tbody tr th:only-of-type {\n",
       "        vertical-align: middle;\n",
       "    }\n",
       "\n",
       "    .dataframe tbody tr th {\n",
       "        vertical-align: top;\n",
       "    }\n",
       "\n",
       "    .dataframe thead th {\n",
       "        text-align: right;\n",
       "    }\n",
       "</style>\n",
       "<table border=\"1\" class=\"dataframe\">\n",
       "  <thead>\n",
       "    <tr style=\"text-align: right;\">\n",
       "      <th></th>\n",
       "      <th>Unnamed: 0</th>\n",
       "      <th>Address</th>\n",
       "      <th>Postal_code</th>\n",
       "      <th>City</th>\n",
       "      <th>Country</th>\n",
       "      <th>Price</th>\n",
       "    </tr>\n",
       "  </thead>\n",
       "  <tbody>\n",
       "    <tr>\n",
       "      <th>0</th>\n",
       "      <td>0</td>\n",
       "      <td>550 Valencia Place Circle</td>\n",
       "      <td>550.0</td>\n",
       "      <td>NaN</td>\n",
       "      <td>550 Valencia Place Circle</td>\n",
       "      <td>207550.0</td>\n",
       "    </tr>\n",
       "    <tr>\n",
       "      <th>1</th>\n",
       "      <td>1</td>\n",
       "      <td>Cason Cove Drive, Orlando, FL 32811, USA</td>\n",
       "      <td>32811.0</td>\n",
       "      <td>Orlando</td>\n",
       "      <td>USA</td>\n",
       "      <td>103775.0</td>\n",
       "    </tr>\n",
       "    <tr>\n",
       "      <th>2</th>\n",
       "      <td>2</td>\n",
       "      <td>5473 Caramella Drive, Orlando, FL 32829, USA</td>\n",
       "      <td>5473.0</td>\n",
       "      <td>Orlando</td>\n",
       "      <td>USA</td>\n",
       "      <td>207550.0</td>\n",
       "    </tr>\n",
       "    <tr>\n",
       "      <th>3</th>\n",
       "      <td>3</td>\n",
       "      <td>2644 Nancy Street, Orlando, FL 32806, USA</td>\n",
       "      <td>2644.0</td>\n",
       "      <td>Orlando</td>\n",
       "      <td>USA</td>\n",
       "      <td>174342.0</td>\n",
       "    </tr>\n",
       "    <tr>\n",
       "      <th>4</th>\n",
       "      <td>4</td>\n",
       "      <td>9053 Lee Vista Boulevard, Orlando, FL 32829, USA</td>\n",
       "      <td>9053.0</td>\n",
       "      <td>Orlando</td>\n",
       "      <td>USA</td>\n",
       "      <td>174342.0</td>\n",
       "    </tr>\n",
       "    <tr>\n",
       "      <th>...</th>\n",
       "      <td>...</td>\n",
       "      <td>...</td>\n",
       "      <td>...</td>\n",
       "      <td>...</td>\n",
       "      <td>...</td>\n",
       "      <td>...</td>\n",
       "    </tr>\n",
       "    <tr>\n",
       "      <th>5320</th>\n",
       "      <td>5320</td>\n",
       "      <td>Warsaw, Masovian Voivodeship, Poland</td>\n",
       "      <td>NaN</td>\n",
       "      <td>Warsaw</td>\n",
       "      <td>Poland</td>\n",
       "      <td>187659.0</td>\n",
       "    </tr>\n",
       "    <tr>\n",
       "      <th>5321</th>\n",
       "      <td>5321</td>\n",
       "      <td>04-359 Warsaw, Poland</td>\n",
       "      <td>4.0</td>\n",
       "      <td>NaN</td>\n",
       "      <td>Poland</td>\n",
       "      <td>329240.0</td>\n",
       "    </tr>\n",
       "    <tr>\n",
       "      <th>5322</th>\n",
       "      <td>5322</td>\n",
       "      <td>Aleje Ujazdowskie 16, 00-478 Warsaw, Poland</td>\n",
       "      <td>16.0</td>\n",
       "      <td>Aleje Ujazdowskie 16</td>\n",
       "      <td>Poland</td>\n",
       "      <td>39477.0</td>\n",
       "    </tr>\n",
       "    <tr>\n",
       "      <th>5323</th>\n",
       "      <td>5323</td>\n",
       "      <td>Józefa Bellottiego 3, 01-022 Warsaw, Poland</td>\n",
       "      <td>1.0</td>\n",
       "      <td>Józefa Bellottiego 3</td>\n",
       "      <td>Poland</td>\n",
       "      <td>34139.0</td>\n",
       "    </tr>\n",
       "    <tr>\n",
       "      <th>5324</th>\n",
       "      <td>5324</td>\n",
       "      <td>Osiedle Kasprzaka A, Marcina Kasprzaka 7, 01-2...</td>\n",
       "      <td>1.0</td>\n",
       "      <td>Marcina Kasprzaka 7</td>\n",
       "      <td>Poland</td>\n",
       "      <td>25449.0</td>\n",
       "    </tr>\n",
       "  </tbody>\n",
       "</table>\n",
       "<p>5325 rows × 6 columns</p>\n",
       "</div>"
      ],
      "text/plain": [
       "      Unnamed: 0                                            Address  \\\n",
       "0              0                          550 Valencia Place Circle   \n",
       "1              1           Cason Cove Drive, Orlando, FL 32811, USA   \n",
       "2              2       5473 Caramella Drive, Orlando, FL 32829, USA   \n",
       "3              3          2644 Nancy Street, Orlando, FL 32806, USA   \n",
       "4              4   9053 Lee Vista Boulevard, Orlando, FL 32829, USA   \n",
       "...          ...                                                ...   \n",
       "5320        5320               Warsaw, Masovian Voivodeship, Poland   \n",
       "5321        5321                              04-359 Warsaw, Poland   \n",
       "5322        5322        Aleje Ujazdowskie 16, 00-478 Warsaw, Poland   \n",
       "5323        5323        Józefa Bellottiego 3, 01-022 Warsaw, Poland   \n",
       "5324        5324  Osiedle Kasprzaka A, Marcina Kasprzaka 7, 01-2...   \n",
       "\n",
       "      Postal_code                  City                    Country     Price  \n",
       "0           550.0                   NaN  550 Valencia Place Circle  207550.0  \n",
       "1         32811.0               Orlando                        USA  103775.0  \n",
       "2          5473.0               Orlando                        USA  207550.0  \n",
       "3          2644.0               Orlando                        USA  174342.0  \n",
       "4          9053.0               Orlando                        USA  174342.0  \n",
       "...           ...                   ...                        ...       ...  \n",
       "5320          NaN                Warsaw                     Poland  187659.0  \n",
       "5321          4.0                   NaN                     Poland  329240.0  \n",
       "5322         16.0  Aleje Ujazdowskie 16                     Poland   39477.0  \n",
       "5323          1.0  Józefa Bellottiego 3                     Poland   34139.0  \n",
       "5324          1.0   Marcina Kasprzaka 7                     Poland   25449.0  \n",
       "\n",
       "[5325 rows x 6 columns]"
      ]
     },
     "execution_count": 3,
     "metadata": {},
     "output_type": "execute_result"
    }
   ],
   "source": [
    "Table1 = pd.read_csv('Table1_csv')\n",
    "Table1"
   ]
  },
  {
   "cell_type": "code",
   "execution_count": 4,
   "id": "57ab0cc1",
   "metadata": {},
   "outputs": [
    {
     "data": {
      "text/html": [
       "<div>\n",
       "<style scoped>\n",
       "    .dataframe tbody tr th:only-of-type {\n",
       "        vertical-align: middle;\n",
       "    }\n",
       "\n",
       "    .dataframe tbody tr th {\n",
       "        vertical-align: top;\n",
       "    }\n",
       "\n",
       "    .dataframe thead th {\n",
       "        text-align: right;\n",
       "    }\n",
       "</style>\n",
       "<table border=\"1\" class=\"dataframe\">\n",
       "  <thead>\n",
       "    <tr style=\"text-align: right;\">\n",
       "      <th></th>\n",
       "      <th>Unnamed: 0</th>\n",
       "      <th>Bed</th>\n",
       "      <th>Bath</th>\n",
       "      <th>Area</th>\n",
       "      <th>Pets</th>\n",
       "    </tr>\n",
       "  </thead>\n",
       "  <tbody>\n",
       "    <tr>\n",
       "      <th>0</th>\n",
       "      <td>0</td>\n",
       "      <td>4</td>\n",
       "      <td>2.5</td>\n",
       "      <td>1846.0</td>\n",
       "      <td>NaN</td>\n",
       "    </tr>\n",
       "    <tr>\n",
       "      <th>1</th>\n",
       "      <td>1</td>\n",
       "      <td>1</td>\n",
       "      <td>1</td>\n",
       "      <td>600.0</td>\n",
       "      <td>NaN</td>\n",
       "    </tr>\n",
       "    <tr>\n",
       "      <th>2</th>\n",
       "      <td>2</td>\n",
       "      <td>3</td>\n",
       "      <td>2.5</td>\n",
       "      <td>1675.0</td>\n",
       "      <td>NaN</td>\n",
       "    </tr>\n",
       "    <tr>\n",
       "      <th>3</th>\n",
       "      <td>3</td>\n",
       "      <td>3</td>\n",
       "      <td>2</td>\n",
       "      <td>1796.0</td>\n",
       "      <td>NaN</td>\n",
       "    </tr>\n",
       "    <tr>\n",
       "      <th>4</th>\n",
       "      <td>4</td>\n",
       "      <td>3</td>\n",
       "      <td>2</td>\n",
       "      <td>1202.0</td>\n",
       "      <td>NaN</td>\n",
       "    </tr>\n",
       "    <tr>\n",
       "      <th>...</th>\n",
       "      <td>...</td>\n",
       "      <td>...</td>\n",
       "      <td>...</td>\n",
       "      <td>...</td>\n",
       "      <td>...</td>\n",
       "    </tr>\n",
       "    <tr>\n",
       "      <th>5320</th>\n",
       "      <td>5320</td>\n",
       "      <td>1</td>\n",
       "      <td>1</td>\n",
       "      <td>517.0</td>\n",
       "      <td>No pets</td>\n",
       "    </tr>\n",
       "    <tr>\n",
       "      <th>5321</th>\n",
       "      <td>5321</td>\n",
       "      <td>2</td>\n",
       "      <td>2</td>\n",
       "      <td>689.0</td>\n",
       "      <td>No pets</td>\n",
       "    </tr>\n",
       "    <tr>\n",
       "      <th>5322</th>\n",
       "      <td>5322</td>\n",
       "      <td>6</td>\n",
       "      <td>Null</td>\n",
       "      <td>0.0</td>\n",
       "      <td>Null</td>\n",
       "    </tr>\n",
       "    <tr>\n",
       "      <th>5323</th>\n",
       "      <td>5323</td>\n",
       "      <td>6</td>\n",
       "      <td>1</td>\n",
       "      <td>0.0</td>\n",
       "      <td>Null</td>\n",
       "    </tr>\n",
       "    <tr>\n",
       "      <th>5324</th>\n",
       "      <td>5324</td>\n",
       "      <td>7</td>\n",
       "      <td>Null</td>\n",
       "      <td>0.0</td>\n",
       "      <td>Null</td>\n",
       "    </tr>\n",
       "  </tbody>\n",
       "</table>\n",
       "<p>5325 rows × 5 columns</p>\n",
       "</div>"
      ],
      "text/plain": [
       "      Unnamed: 0 Bed  Bath    Area     Pets\n",
       "0              0  4   2.5   1846.0      NaN\n",
       "1              1  1     1    600.0      NaN\n",
       "2              2  3   2.5   1675.0      NaN\n",
       "3              3  3     2   1796.0      NaN\n",
       "4              4  3     2   1202.0      NaN\n",
       "...          ...  ..   ...     ...      ...\n",
       "5320        5320  1     1    517.0  No pets\n",
       "5321        5321  2     2    689.0  No pets\n",
       "5322        5322  6   Null     0.0     Null\n",
       "5323        5323  6     1      0.0     Null\n",
       "5324        5324  7   Null     0.0     Null\n",
       "\n",
       "[5325 rows x 5 columns]"
      ]
     },
     "execution_count": 4,
     "metadata": {},
     "output_type": "execute_result"
    }
   ],
   "source": [
    "Table12 = pd.read_csv('Table2_csv')\n",
    "Table2"
   ]
  },
  {
   "cell_type": "code",
   "execution_count": 5,
   "id": "b3dfba84",
   "metadata": {},
   "outputs": [
    {
     "data": {
      "text/html": [
       "<div>\n",
       "<style scoped>\n",
       "    .dataframe tbody tr th:only-of-type {\n",
       "        vertical-align: middle;\n",
       "    }\n",
       "\n",
       "    .dataframe tbody tr th {\n",
       "        vertical-align: top;\n",
       "    }\n",
       "\n",
       "    .dataframe thead th {\n",
       "        text-align: right;\n",
       "    }\n",
       "</style>\n",
       "<table border=\"1\" class=\"dataframe\">\n",
       "  <thead>\n",
       "    <tr style=\"text-align: right;\">\n",
       "      <th></th>\n",
       "      <th>Unnamed: 0</th>\n",
       "      <th>Dishwasher</th>\n",
       "      <th>AC</th>\n",
       "    </tr>\n",
       "  </thead>\n",
       "  <tbody>\n",
       "    <tr>\n",
       "      <th>0</th>\n",
       "      <td>0</td>\n",
       "      <td>Null</td>\n",
       "      <td>Null</td>\n",
       "    </tr>\n",
       "    <tr>\n",
       "      <th>1</th>\n",
       "      <td>1</td>\n",
       "      <td>Null</td>\n",
       "      <td>Null</td>\n",
       "    </tr>\n",
       "    <tr>\n",
       "      <th>2</th>\n",
       "      <td>2</td>\n",
       "      <td>Null</td>\n",
       "      <td>Null</td>\n",
       "    </tr>\n",
       "    <tr>\n",
       "      <th>3</th>\n",
       "      <td>3</td>\n",
       "      <td>Null</td>\n",
       "      <td>Null</td>\n",
       "    </tr>\n",
       "    <tr>\n",
       "      <th>4</th>\n",
       "      <td>4</td>\n",
       "      <td>Null</td>\n",
       "      <td>Null</td>\n",
       "    </tr>\n",
       "    <tr>\n",
       "      <th>...</th>\n",
       "      <td>...</td>\n",
       "      <td>...</td>\n",
       "      <td>...</td>\n",
       "    </tr>\n",
       "    <tr>\n",
       "      <th>5320</th>\n",
       "      <td>5320</td>\n",
       "      <td>Elevator</td>\n",
       "      <td>Air Conditioning</td>\n",
       "    </tr>\n",
       "    <tr>\n",
       "      <th>5321</th>\n",
       "      <td>5321</td>\n",
       "      <td>Dishwasher</td>\n",
       "      <td>Balcony</td>\n",
       "    </tr>\n",
       "    <tr>\n",
       "      <th>5322</th>\n",
       "      <td>5322</td>\n",
       "      <td>Null</td>\n",
       "      <td>Washer/Dryer In Unit</td>\n",
       "    </tr>\n",
       "    <tr>\n",
       "      <th>5323</th>\n",
       "      <td>5323</td>\n",
       "      <td>Null</td>\n",
       "      <td>Washer/Dryer In Unit</td>\n",
       "    </tr>\n",
       "    <tr>\n",
       "      <th>5324</th>\n",
       "      <td>5324</td>\n",
       "      <td>Null</td>\n",
       "      <td>Washer/Dryer In Unit</td>\n",
       "    </tr>\n",
       "  </tbody>\n",
       "</table>\n",
       "<p>5325 rows × 3 columns</p>\n",
       "</div>"
      ],
      "text/plain": [
       "      Unnamed: 0  Dishwasher                    AC\n",
       "0              0        Null                  Null\n",
       "1              1        Null                  Null\n",
       "2              2        Null                  Null\n",
       "3              3        Null                  Null\n",
       "4              4        Null                  Null\n",
       "...          ...         ...                   ...\n",
       "5320        5320    Elevator      Air Conditioning\n",
       "5321        5321  Dishwasher               Balcony\n",
       "5322        5322        Null  Washer/Dryer In Unit\n",
       "5323        5323        Null  Washer/Dryer In Unit\n",
       "5324        5324        Null  Washer/Dryer In Unit\n",
       "\n",
       "[5325 rows x 3 columns]"
      ]
     },
     "execution_count": 5,
     "metadata": {},
     "output_type": "execute_result"
    }
   ],
   "source": [
    "Table3 = pd.read_csv('Table3_csv')\n",
    "Table3"
   ]
  },
  {
   "cell_type": "code",
   "execution_count": 6,
   "id": "d9ae9035",
   "metadata": {},
   "outputs": [
    {
     "data": {
      "text/html": [
       "<div>\n",
       "<style scoped>\n",
       "    .dataframe tbody tr th:only-of-type {\n",
       "        vertical-align: middle;\n",
       "    }\n",
       "\n",
       "    .dataframe tbody tr th {\n",
       "        vertical-align: top;\n",
       "    }\n",
       "\n",
       "    .dataframe thead th {\n",
       "        text-align: right;\n",
       "    }\n",
       "</style>\n",
       "<table border=\"1\" class=\"dataframe\">\n",
       "  <thead>\n",
       "    <tr style=\"text-align: right;\">\n",
       "      <th></th>\n",
       "      <th>Unnamed: 0</th>\n",
       "      <th>Address</th>\n",
       "      <th>Postal_code</th>\n",
       "      <th>City</th>\n",
       "      <th>Country</th>\n",
       "      <th>Price</th>\n",
       "      <th>Unnamed: 0</th>\n",
       "      <th>Bed</th>\n",
       "      <th>Bath</th>\n",
       "      <th>Area</th>\n",
       "      <th>Pets</th>\n",
       "      <th>Unnamed: 0</th>\n",
       "      <th>Dishwasher</th>\n",
       "      <th>AC</th>\n",
       "    </tr>\n",
       "  </thead>\n",
       "  <tbody>\n",
       "    <tr>\n",
       "      <th>0</th>\n",
       "      <td>0</td>\n",
       "      <td>550 Valencia Place Circle</td>\n",
       "      <td>550.0</td>\n",
       "      <td>NaN</td>\n",
       "      <td>550 Valencia Place Circle</td>\n",
       "      <td>207550.0</td>\n",
       "      <td>0</td>\n",
       "      <td>4</td>\n",
       "      <td>2.5</td>\n",
       "      <td>1846.0</td>\n",
       "      <td>NaN</td>\n",
       "      <td>0</td>\n",
       "      <td>Null</td>\n",
       "      <td>Null</td>\n",
       "    </tr>\n",
       "    <tr>\n",
       "      <th>1</th>\n",
       "      <td>1</td>\n",
       "      <td>Cason Cove Drive, Orlando, FL 32811, USA</td>\n",
       "      <td>32811.0</td>\n",
       "      <td>Orlando</td>\n",
       "      <td>USA</td>\n",
       "      <td>103775.0</td>\n",
       "      <td>1</td>\n",
       "      <td>1</td>\n",
       "      <td>1</td>\n",
       "      <td>600.0</td>\n",
       "      <td>NaN</td>\n",
       "      <td>1</td>\n",
       "      <td>Null</td>\n",
       "      <td>Null</td>\n",
       "    </tr>\n",
       "    <tr>\n",
       "      <th>2</th>\n",
       "      <td>2</td>\n",
       "      <td>5473 Caramella Drive, Orlando, FL 32829, USA</td>\n",
       "      <td>5473.0</td>\n",
       "      <td>Orlando</td>\n",
       "      <td>USA</td>\n",
       "      <td>207550.0</td>\n",
       "      <td>2</td>\n",
       "      <td>3</td>\n",
       "      <td>2.5</td>\n",
       "      <td>1675.0</td>\n",
       "      <td>NaN</td>\n",
       "      <td>2</td>\n",
       "      <td>Null</td>\n",
       "      <td>Null</td>\n",
       "    </tr>\n",
       "    <tr>\n",
       "      <th>3</th>\n",
       "      <td>3</td>\n",
       "      <td>2644 Nancy Street, Orlando, FL 32806, USA</td>\n",
       "      <td>2644.0</td>\n",
       "      <td>Orlando</td>\n",
       "      <td>USA</td>\n",
       "      <td>174342.0</td>\n",
       "      <td>3</td>\n",
       "      <td>3</td>\n",
       "      <td>2</td>\n",
       "      <td>1796.0</td>\n",
       "      <td>NaN</td>\n",
       "      <td>3</td>\n",
       "      <td>Null</td>\n",
       "      <td>Null</td>\n",
       "    </tr>\n",
       "    <tr>\n",
       "      <th>4</th>\n",
       "      <td>4</td>\n",
       "      <td>9053 Lee Vista Boulevard, Orlando, FL 32829, USA</td>\n",
       "      <td>9053.0</td>\n",
       "      <td>Orlando</td>\n",
       "      <td>USA</td>\n",
       "      <td>174342.0</td>\n",
       "      <td>4</td>\n",
       "      <td>3</td>\n",
       "      <td>2</td>\n",
       "      <td>1202.0</td>\n",
       "      <td>NaN</td>\n",
       "      <td>4</td>\n",
       "      <td>Null</td>\n",
       "      <td>Null</td>\n",
       "    </tr>\n",
       "    <tr>\n",
       "      <th>...</th>\n",
       "      <td>...</td>\n",
       "      <td>...</td>\n",
       "      <td>...</td>\n",
       "      <td>...</td>\n",
       "      <td>...</td>\n",
       "      <td>...</td>\n",
       "      <td>...</td>\n",
       "      <td>...</td>\n",
       "      <td>...</td>\n",
       "      <td>...</td>\n",
       "      <td>...</td>\n",
       "      <td>...</td>\n",
       "      <td>...</td>\n",
       "      <td>...</td>\n",
       "    </tr>\n",
       "    <tr>\n",
       "      <th>5320</th>\n",
       "      <td>5320</td>\n",
       "      <td>Warsaw, Masovian Voivodeship, Poland</td>\n",
       "      <td>NaN</td>\n",
       "      <td>Warsaw</td>\n",
       "      <td>Poland</td>\n",
       "      <td>187659.0</td>\n",
       "      <td>5320</td>\n",
       "      <td>1</td>\n",
       "      <td>1</td>\n",
       "      <td>517.0</td>\n",
       "      <td>No pets</td>\n",
       "      <td>5320</td>\n",
       "      <td>Elevator</td>\n",
       "      <td>Air Conditioning</td>\n",
       "    </tr>\n",
       "    <tr>\n",
       "      <th>5321</th>\n",
       "      <td>5321</td>\n",
       "      <td>04-359 Warsaw, Poland</td>\n",
       "      <td>4.0</td>\n",
       "      <td>NaN</td>\n",
       "      <td>Poland</td>\n",
       "      <td>329240.0</td>\n",
       "      <td>5321</td>\n",
       "      <td>2</td>\n",
       "      <td>2</td>\n",
       "      <td>689.0</td>\n",
       "      <td>No pets</td>\n",
       "      <td>5321</td>\n",
       "      <td>Dishwasher</td>\n",
       "      <td>Balcony</td>\n",
       "    </tr>\n",
       "    <tr>\n",
       "      <th>5322</th>\n",
       "      <td>5322</td>\n",
       "      <td>Aleje Ujazdowskie 16, 00-478 Warsaw, Poland</td>\n",
       "      <td>16.0</td>\n",
       "      <td>Aleje Ujazdowskie 16</td>\n",
       "      <td>Poland</td>\n",
       "      <td>39477.0</td>\n",
       "      <td>5322</td>\n",
       "      <td>6</td>\n",
       "      <td>Null</td>\n",
       "      <td>0.0</td>\n",
       "      <td>Null</td>\n",
       "      <td>5322</td>\n",
       "      <td>Null</td>\n",
       "      <td>Washer/Dryer In Unit</td>\n",
       "    </tr>\n",
       "    <tr>\n",
       "      <th>5323</th>\n",
       "      <td>5323</td>\n",
       "      <td>Józefa Bellottiego 3, 01-022 Warsaw, Poland</td>\n",
       "      <td>1.0</td>\n",
       "      <td>Józefa Bellottiego 3</td>\n",
       "      <td>Poland</td>\n",
       "      <td>34139.0</td>\n",
       "      <td>5323</td>\n",
       "      <td>6</td>\n",
       "      <td>1</td>\n",
       "      <td>0.0</td>\n",
       "      <td>Null</td>\n",
       "      <td>5323</td>\n",
       "      <td>Null</td>\n",
       "      <td>Washer/Dryer In Unit</td>\n",
       "    </tr>\n",
       "    <tr>\n",
       "      <th>5324</th>\n",
       "      <td>5324</td>\n",
       "      <td>Osiedle Kasprzaka A, Marcina Kasprzaka 7, 01-2...</td>\n",
       "      <td>1.0</td>\n",
       "      <td>Marcina Kasprzaka 7</td>\n",
       "      <td>Poland</td>\n",
       "      <td>25449.0</td>\n",
       "      <td>5324</td>\n",
       "      <td>7</td>\n",
       "      <td>Null</td>\n",
       "      <td>0.0</td>\n",
       "      <td>Null</td>\n",
       "      <td>5324</td>\n",
       "      <td>Null</td>\n",
       "      <td>Washer/Dryer In Unit</td>\n",
       "    </tr>\n",
       "  </tbody>\n",
       "</table>\n",
       "<p>5325 rows × 14 columns</p>\n",
       "</div>"
      ],
      "text/plain": [
       "      Unnamed: 0                                            Address  \\\n",
       "0              0                          550 Valencia Place Circle   \n",
       "1              1           Cason Cove Drive, Orlando, FL 32811, USA   \n",
       "2              2       5473 Caramella Drive, Orlando, FL 32829, USA   \n",
       "3              3          2644 Nancy Street, Orlando, FL 32806, USA   \n",
       "4              4   9053 Lee Vista Boulevard, Orlando, FL 32829, USA   \n",
       "...          ...                                                ...   \n",
       "5320        5320               Warsaw, Masovian Voivodeship, Poland   \n",
       "5321        5321                              04-359 Warsaw, Poland   \n",
       "5322        5322        Aleje Ujazdowskie 16, 00-478 Warsaw, Poland   \n",
       "5323        5323        Józefa Bellottiego 3, 01-022 Warsaw, Poland   \n",
       "5324        5324  Osiedle Kasprzaka A, Marcina Kasprzaka 7, 01-2...   \n",
       "\n",
       "      Postal_code                  City                    Country     Price  \\\n",
       "0           550.0                   NaN  550 Valencia Place Circle  207550.0   \n",
       "1         32811.0               Orlando                        USA  103775.0   \n",
       "2          5473.0               Orlando                        USA  207550.0   \n",
       "3          2644.0               Orlando                        USA  174342.0   \n",
       "4          9053.0               Orlando                        USA  174342.0   \n",
       "...           ...                   ...                        ...       ...   \n",
       "5320          NaN                Warsaw                     Poland  187659.0   \n",
       "5321          4.0                   NaN                     Poland  329240.0   \n",
       "5322         16.0  Aleje Ujazdowskie 16                     Poland   39477.0   \n",
       "5323          1.0  Józefa Bellottiego 3                     Poland   34139.0   \n",
       "5324          1.0   Marcina Kasprzaka 7                     Poland   25449.0   \n",
       "\n",
       "      Unnamed: 0 Bed  Bath    Area     Pets  Unnamed: 0  Dishwasher  \\\n",
       "0              0  4   2.5   1846.0      NaN           0        Null   \n",
       "1              1  1     1    600.0      NaN           1        Null   \n",
       "2              2  3   2.5   1675.0      NaN           2        Null   \n",
       "3              3  3     2   1796.0      NaN           3        Null   \n",
       "4              4  3     2   1202.0      NaN           4        Null   \n",
       "...          ...  ..   ...     ...      ...         ...         ...   \n",
       "5320        5320  1     1    517.0  No pets        5320    Elevator   \n",
       "5321        5321  2     2    689.0  No pets        5321  Dishwasher   \n",
       "5322        5322  6   Null     0.0     Null        5322        Null   \n",
       "5323        5323  6     1      0.0     Null        5323        Null   \n",
       "5324        5324  7   Null     0.0     Null        5324        Null   \n",
       "\n",
       "                        AC  \n",
       "0                     Null  \n",
       "1                     Null  \n",
       "2                     Null  \n",
       "3                     Null  \n",
       "4                     Null  \n",
       "...                    ...  \n",
       "5320      Air Conditioning  \n",
       "5321               Balcony  \n",
       "5322  Washer/Dryer In Unit  \n",
       "5323  Washer/Dryer In Unit  \n",
       "5324  Washer/Dryer In Unit  \n",
       "\n",
       "[5325 rows x 14 columns]"
      ]
     },
     "execution_count": 6,
     "metadata": {},
     "output_type": "execute_result"
    }
   ],
   "source": [
    "T = pd.concat([Table1,Table2,Table3], axis = 1)\n",
    "T"
   ]
  },
  {
   "cell_type": "markdown",
   "id": "39e97282",
   "metadata": {},
   "source": [
    "AM dropping the column name unnamed:0 because is just an index"
   ]
  },
  {
   "cell_type": "code",
   "execution_count": 7,
   "id": "46311018",
   "metadata": {},
   "outputs": [
    {
     "data": {
      "text/html": [
       "<div>\n",
       "<style scoped>\n",
       "    .dataframe tbody tr th:only-of-type {\n",
       "        vertical-align: middle;\n",
       "    }\n",
       "\n",
       "    .dataframe tbody tr th {\n",
       "        vertical-align: top;\n",
       "    }\n",
       "\n",
       "    .dataframe thead th {\n",
       "        text-align: right;\n",
       "    }\n",
       "</style>\n",
       "<table border=\"1\" class=\"dataframe\">\n",
       "  <thead>\n",
       "    <tr style=\"text-align: right;\">\n",
       "      <th></th>\n",
       "      <th>Address</th>\n",
       "      <th>Postal_code</th>\n",
       "      <th>City</th>\n",
       "      <th>Country</th>\n",
       "      <th>Price</th>\n",
       "      <th>Bed</th>\n",
       "      <th>Bath</th>\n",
       "      <th>Area</th>\n",
       "      <th>Pets</th>\n",
       "      <th>Dishwasher</th>\n",
       "      <th>AC</th>\n",
       "    </tr>\n",
       "  </thead>\n",
       "  <tbody>\n",
       "    <tr>\n",
       "      <th>0</th>\n",
       "      <td>550 Valencia Place Circle</td>\n",
       "      <td>550.0</td>\n",
       "      <td>NaN</td>\n",
       "      <td>550 Valencia Place Circle</td>\n",
       "      <td>207550.0</td>\n",
       "      <td>4</td>\n",
       "      <td>2.5</td>\n",
       "      <td>1846.0</td>\n",
       "      <td>NaN</td>\n",
       "      <td>Null</td>\n",
       "      <td>Null</td>\n",
       "    </tr>\n",
       "    <tr>\n",
       "      <th>1</th>\n",
       "      <td>Cason Cove Drive, Orlando, FL 32811, USA</td>\n",
       "      <td>32811.0</td>\n",
       "      <td>Orlando</td>\n",
       "      <td>USA</td>\n",
       "      <td>103775.0</td>\n",
       "      <td>1</td>\n",
       "      <td>1</td>\n",
       "      <td>600.0</td>\n",
       "      <td>NaN</td>\n",
       "      <td>Null</td>\n",
       "      <td>Null</td>\n",
       "    </tr>\n",
       "    <tr>\n",
       "      <th>2</th>\n",
       "      <td>5473 Caramella Drive, Orlando, FL 32829, USA</td>\n",
       "      <td>5473.0</td>\n",
       "      <td>Orlando</td>\n",
       "      <td>USA</td>\n",
       "      <td>207550.0</td>\n",
       "      <td>3</td>\n",
       "      <td>2.5</td>\n",
       "      <td>1675.0</td>\n",
       "      <td>NaN</td>\n",
       "      <td>Null</td>\n",
       "      <td>Null</td>\n",
       "    </tr>\n",
       "    <tr>\n",
       "      <th>3</th>\n",
       "      <td>2644 Nancy Street, Orlando, FL 32806, USA</td>\n",
       "      <td>2644.0</td>\n",
       "      <td>Orlando</td>\n",
       "      <td>USA</td>\n",
       "      <td>174342.0</td>\n",
       "      <td>3</td>\n",
       "      <td>2</td>\n",
       "      <td>1796.0</td>\n",
       "      <td>NaN</td>\n",
       "      <td>Null</td>\n",
       "      <td>Null</td>\n",
       "    </tr>\n",
       "    <tr>\n",
       "      <th>4</th>\n",
       "      <td>9053 Lee Vista Boulevard, Orlando, FL 32829, USA</td>\n",
       "      <td>9053.0</td>\n",
       "      <td>Orlando</td>\n",
       "      <td>USA</td>\n",
       "      <td>174342.0</td>\n",
       "      <td>3</td>\n",
       "      <td>2</td>\n",
       "      <td>1202.0</td>\n",
       "      <td>NaN</td>\n",
       "      <td>Null</td>\n",
       "      <td>Null</td>\n",
       "    </tr>\n",
       "  </tbody>\n",
       "</table>\n",
       "</div>"
      ],
      "text/plain": [
       "                                            Address  Postal_code     City  \\\n",
       "0                         550 Valencia Place Circle        550.0      NaN   \n",
       "1          Cason Cove Drive, Orlando, FL 32811, USA      32811.0  Orlando   \n",
       "2      5473 Caramella Drive, Orlando, FL 32829, USA       5473.0  Orlando   \n",
       "3         2644 Nancy Street, Orlando, FL 32806, USA       2644.0  Orlando   \n",
       "4  9053 Lee Vista Boulevard, Orlando, FL 32829, USA       9053.0  Orlando   \n",
       "\n",
       "                     Country     Price Bed  Bath    Area Pets Dishwasher    AC  \n",
       "0  550 Valencia Place Circle  207550.0  4   2.5   1846.0  NaN       Null  Null  \n",
       "1                        USA  103775.0  1     1    600.0  NaN       Null  Null  \n",
       "2                        USA  207550.0  3   2.5   1675.0  NaN       Null  Null  \n",
       "3                        USA  174342.0  3     2   1796.0  NaN       Null  Null  \n",
       "4                        USA  174342.0  3     2   1202.0  NaN       Null  Null  "
      ]
     },
     "execution_count": 7,
     "metadata": {},
     "output_type": "execute_result"
    }
   ],
   "source": [
    "T = T.drop(columns=['Unnamed: 0'])\n",
    "T.head()"
   ]
  },
  {
   "cell_type": "code",
   "execution_count": 8,
   "id": "0734ba7b",
   "metadata": {},
   "outputs": [
    {
     "data": {
      "text/plain": [
       "(5325, 11)"
      ]
     },
     "execution_count": 8,
     "metadata": {},
     "output_type": "execute_result"
    }
   ],
   "source": [
    "T.shape"
   ]
  },
  {
   "cell_type": "code",
   "execution_count": 9,
   "id": "2e3b06e2",
   "metadata": {},
   "outputs": [
    {
     "name": "stdout",
     "output_type": "stream",
     "text": [
      "<class 'pandas.core.frame.DataFrame'>\n",
      "RangeIndex: 5325 entries, 0 to 5324\n",
      "Data columns (total 11 columns):\n",
      " #   Column       Non-Null Count  Dtype  \n",
      "---  ------       --------------  -----  \n",
      " 0   Address      5325 non-null   object \n",
      " 1   Postal_code  4112 non-null   float64\n",
      " 2   City         3253 non-null   object \n",
      " 3   Country      5325 non-null   object \n",
      " 4   Price        5303 non-null   float64\n",
      " 5   Bed          5325 non-null   object \n",
      " 6   Bath         5325 non-null   object \n",
      " 7   Area         5325 non-null   object \n",
      " 8   Pets         4995 non-null   object \n",
      " 9   Dishwasher   5325 non-null   object \n",
      " 10  AC           5325 non-null   object \n",
      "dtypes: float64(2), object(9)\n",
      "memory usage: 457.7+ KB\n"
     ]
    }
   ],
   "source": [
    "T.info()"
   ]
  },
  {
   "cell_type": "code",
   "execution_count": 10,
   "id": "fe301bf8",
   "metadata": {},
   "outputs": [
    {
     "data": {
      "text/plain": [
       "Address           0\n",
       "Postal_code    1213\n",
       "City           2072\n",
       "Country           0\n",
       "Price            22\n",
       "Bed               0\n",
       "Bath              0\n",
       "Area              0\n",
       "Pets            330\n",
       "Dishwasher        0\n",
       "AC                0\n",
       "dtype: int64"
      ]
     },
     "execution_count": 10,
     "metadata": {},
     "output_type": "execute_result"
    }
   ],
   "source": [
    "T.isnull().sum()"
   ]
  },
  {
   "cell_type": "code",
   "execution_count": 11,
   "id": "2d13f904",
   "metadata": {},
   "outputs": [
    {
     "data": {
      "text/plain": [
       "Address        5325\n",
       "Postal_code    4112\n",
       "City           3253\n",
       "Country        5325\n",
       "Price          5303\n",
       "Bed            5325\n",
       "Bath           5325\n",
       "Area           5325\n",
       "Pets           4995\n",
       "Dishwasher     5325\n",
       "AC             5325\n",
       "dtype: int64"
      ]
     },
     "execution_count": 11,
     "metadata": {},
     "output_type": "execute_result"
    }
   ],
   "source": [
    "T.count()"
   ]
  },
  {
   "cell_type": "markdown",
   "id": "3b41e5ad",
   "metadata": {},
   "source": [
    "#The dataframe contain object and float data type and null values which shall be address accordingly"
   ]
  },
  {
   "cell_type": "code",
   "execution_count": 12,
   "id": "5b96ed42",
   "metadata": {},
   "outputs": [],
   "source": [
    "T['Price']= np.ceil(T['Price'].fillna(T['Price'].mean()))"
   ]
  },
  {
   "cell_type": "code",
   "execution_count": 13,
   "id": "ed0e8ddf",
   "metadata": {},
   "outputs": [],
   "source": [
    "T['Postal_code']= T['Postal_code'].fillna(T['Postal_code'].mode()[0])"
   ]
  },
  {
   "cell_type": "code",
   "execution_count": 14,
   "id": "26234d84",
   "metadata": {},
   "outputs": [
    {
     "data": {
      "text/html": [
       "<div>\n",
       "<style scoped>\n",
       "    .dataframe tbody tr th:only-of-type {\n",
       "        vertical-align: middle;\n",
       "    }\n",
       "\n",
       "    .dataframe tbody tr th {\n",
       "        vertical-align: top;\n",
       "    }\n",
       "\n",
       "    .dataframe thead th {\n",
       "        text-align: right;\n",
       "    }\n",
       "</style>\n",
       "<table border=\"1\" class=\"dataframe\">\n",
       "  <thead>\n",
       "    <tr style=\"text-align: right;\">\n",
       "      <th></th>\n",
       "      <th>Address</th>\n",
       "      <th>Postal_code</th>\n",
       "      <th>City</th>\n",
       "      <th>Country</th>\n",
       "      <th>Price</th>\n",
       "      <th>Bed</th>\n",
       "      <th>Bath</th>\n",
       "      <th>Area</th>\n",
       "      <th>Pets</th>\n",
       "      <th>Dishwasher</th>\n",
       "      <th>AC</th>\n",
       "    </tr>\n",
       "  </thead>\n",
       "  <tbody>\n",
       "    <tr>\n",
       "      <th>0</th>\n",
       "      <td>550 Valencia Place Circle</td>\n",
       "      <td>550.0</td>\n",
       "      <td>NaN</td>\n",
       "      <td>550 Valencia Place Circle</td>\n",
       "      <td>207550.0</td>\n",
       "      <td>4</td>\n",
       "      <td>2.5</td>\n",
       "      <td>1846.0</td>\n",
       "      <td>NaN</td>\n",
       "      <td>Null</td>\n",
       "      <td>Null</td>\n",
       "    </tr>\n",
       "    <tr>\n",
       "      <th>1</th>\n",
       "      <td>Cason Cove Drive, Orlando, FL 32811, USA</td>\n",
       "      <td>32811.0</td>\n",
       "      <td>Orlando</td>\n",
       "      <td>USA</td>\n",
       "      <td>103775.0</td>\n",
       "      <td>1</td>\n",
       "      <td>1</td>\n",
       "      <td>600.0</td>\n",
       "      <td>NaN</td>\n",
       "      <td>Null</td>\n",
       "      <td>Null</td>\n",
       "    </tr>\n",
       "    <tr>\n",
       "      <th>2</th>\n",
       "      <td>5473 Caramella Drive, Orlando, FL 32829, USA</td>\n",
       "      <td>5473.0</td>\n",
       "      <td>Orlando</td>\n",
       "      <td>USA</td>\n",
       "      <td>207550.0</td>\n",
       "      <td>3</td>\n",
       "      <td>2.5</td>\n",
       "      <td>1675.0</td>\n",
       "      <td>NaN</td>\n",
       "      <td>Null</td>\n",
       "      <td>Null</td>\n",
       "    </tr>\n",
       "    <tr>\n",
       "      <th>3</th>\n",
       "      <td>2644 Nancy Street, Orlando, FL 32806, USA</td>\n",
       "      <td>2644.0</td>\n",
       "      <td>Orlando</td>\n",
       "      <td>USA</td>\n",
       "      <td>174342.0</td>\n",
       "      <td>3</td>\n",
       "      <td>2</td>\n",
       "      <td>1796.0</td>\n",
       "      <td>NaN</td>\n",
       "      <td>Null</td>\n",
       "      <td>Null</td>\n",
       "    </tr>\n",
       "    <tr>\n",
       "      <th>4</th>\n",
       "      <td>9053 Lee Vista Boulevard, Orlando, FL 32829, USA</td>\n",
       "      <td>9053.0</td>\n",
       "      <td>Orlando</td>\n",
       "      <td>USA</td>\n",
       "      <td>174342.0</td>\n",
       "      <td>3</td>\n",
       "      <td>2</td>\n",
       "      <td>1202.0</td>\n",
       "      <td>NaN</td>\n",
       "      <td>Null</td>\n",
       "      <td>Null</td>\n",
       "    </tr>\n",
       "    <tr>\n",
       "      <th>...</th>\n",
       "      <td>...</td>\n",
       "      <td>...</td>\n",
       "      <td>...</td>\n",
       "      <td>...</td>\n",
       "      <td>...</td>\n",
       "      <td>...</td>\n",
       "      <td>...</td>\n",
       "      <td>...</td>\n",
       "      <td>...</td>\n",
       "      <td>...</td>\n",
       "      <td>...</td>\n",
       "    </tr>\n",
       "    <tr>\n",
       "      <th>5320</th>\n",
       "      <td>Warsaw, Masovian Voivodeship, Poland</td>\n",
       "      <td>1.0</td>\n",
       "      <td>Warsaw</td>\n",
       "      <td>Poland</td>\n",
       "      <td>187659.0</td>\n",
       "      <td>1</td>\n",
       "      <td>1</td>\n",
       "      <td>517.0</td>\n",
       "      <td>No pets</td>\n",
       "      <td>Elevator</td>\n",
       "      <td>Air Conditioning</td>\n",
       "    </tr>\n",
       "    <tr>\n",
       "      <th>5321</th>\n",
       "      <td>04-359 Warsaw, Poland</td>\n",
       "      <td>4.0</td>\n",
       "      <td>NaN</td>\n",
       "      <td>Poland</td>\n",
       "      <td>329240.0</td>\n",
       "      <td>2</td>\n",
       "      <td>2</td>\n",
       "      <td>689.0</td>\n",
       "      <td>No pets</td>\n",
       "      <td>Dishwasher</td>\n",
       "      <td>Balcony</td>\n",
       "    </tr>\n",
       "    <tr>\n",
       "      <th>5322</th>\n",
       "      <td>Aleje Ujazdowskie 16, 00-478 Warsaw, Poland</td>\n",
       "      <td>16.0</td>\n",
       "      <td>Aleje Ujazdowskie 16</td>\n",
       "      <td>Poland</td>\n",
       "      <td>39477.0</td>\n",
       "      <td>6</td>\n",
       "      <td>Null</td>\n",
       "      <td>0.0</td>\n",
       "      <td>Null</td>\n",
       "      <td>Null</td>\n",
       "      <td>Washer/Dryer In Unit</td>\n",
       "    </tr>\n",
       "    <tr>\n",
       "      <th>5323</th>\n",
       "      <td>Józefa Bellottiego 3, 01-022 Warsaw, Poland</td>\n",
       "      <td>1.0</td>\n",
       "      <td>Józefa Bellottiego 3</td>\n",
       "      <td>Poland</td>\n",
       "      <td>34139.0</td>\n",
       "      <td>6</td>\n",
       "      <td>1</td>\n",
       "      <td>0.0</td>\n",
       "      <td>Null</td>\n",
       "      <td>Null</td>\n",
       "      <td>Washer/Dryer In Unit</td>\n",
       "    </tr>\n",
       "    <tr>\n",
       "      <th>5324</th>\n",
       "      <td>Osiedle Kasprzaka A, Marcina Kasprzaka 7, 01-2...</td>\n",
       "      <td>1.0</td>\n",
       "      <td>Marcina Kasprzaka 7</td>\n",
       "      <td>Poland</td>\n",
       "      <td>25449.0</td>\n",
       "      <td>7</td>\n",
       "      <td>Null</td>\n",
       "      <td>0.0</td>\n",
       "      <td>Null</td>\n",
       "      <td>Null</td>\n",
       "      <td>Washer/Dryer In Unit</td>\n",
       "    </tr>\n",
       "  </tbody>\n",
       "</table>\n",
       "<p>5325 rows × 11 columns</p>\n",
       "</div>"
      ],
      "text/plain": [
       "                                                Address  Postal_code  \\\n",
       "0                             550 Valencia Place Circle        550.0   \n",
       "1              Cason Cove Drive, Orlando, FL 32811, USA      32811.0   \n",
       "2          5473 Caramella Drive, Orlando, FL 32829, USA       5473.0   \n",
       "3             2644 Nancy Street, Orlando, FL 32806, USA       2644.0   \n",
       "4      9053 Lee Vista Boulevard, Orlando, FL 32829, USA       9053.0   \n",
       "...                                                 ...          ...   \n",
       "5320               Warsaw, Masovian Voivodeship, Poland          1.0   \n",
       "5321                              04-359 Warsaw, Poland          4.0   \n",
       "5322        Aleje Ujazdowskie 16, 00-478 Warsaw, Poland         16.0   \n",
       "5323        Józefa Bellottiego 3, 01-022 Warsaw, Poland          1.0   \n",
       "5324  Osiedle Kasprzaka A, Marcina Kasprzaka 7, 01-2...          1.0   \n",
       "\n",
       "                      City                    Country     Price Bed  Bath  \\\n",
       "0                      NaN  550 Valencia Place Circle  207550.0  4   2.5    \n",
       "1                  Orlando                        USA  103775.0  1     1    \n",
       "2                  Orlando                        USA  207550.0  3   2.5    \n",
       "3                  Orlando                        USA  174342.0  3     2    \n",
       "4                  Orlando                        USA  174342.0  3     2    \n",
       "...                    ...                        ...       ...  ..   ...   \n",
       "5320                Warsaw                     Poland  187659.0  1     1    \n",
       "5321                   NaN                     Poland  329240.0  2     2    \n",
       "5322  Aleje Ujazdowskie 16                     Poland   39477.0  6   Null   \n",
       "5323  Józefa Bellottiego 3                     Poland   34139.0  6     1    \n",
       "5324   Marcina Kasprzaka 7                     Poland   25449.0  7   Null   \n",
       "\n",
       "        Area     Pets  Dishwasher                    AC  \n",
       "0     1846.0      NaN        Null                  Null  \n",
       "1      600.0      NaN        Null                  Null  \n",
       "2     1675.0      NaN        Null                  Null  \n",
       "3     1796.0      NaN        Null                  Null  \n",
       "4     1202.0      NaN        Null                  Null  \n",
       "...      ...      ...         ...                   ...  \n",
       "5320   517.0  No pets    Elevator      Air Conditioning  \n",
       "5321   689.0  No pets  Dishwasher               Balcony  \n",
       "5322     0.0     Null        Null  Washer/Dryer In Unit  \n",
       "5323     0.0     Null        Null  Washer/Dryer In Unit  \n",
       "5324     0.0     Null        Null  Washer/Dryer In Unit  \n",
       "\n",
       "[5325 rows x 11 columns]"
      ]
     },
     "execution_count": 14,
     "metadata": {},
     "output_type": "execute_result"
    }
   ],
   "source": [
    "T"
   ]
  },
  {
   "cell_type": "code",
   "execution_count": 15,
   "id": "056b862d",
   "metadata": {},
   "outputs": [
    {
     "data": {
      "text/plain": [
       "Address           0\n",
       "Postal_code       0\n",
       "City           2072\n",
       "Country           0\n",
       "Price             0\n",
       "Bed               0\n",
       "Bath              0\n",
       "Area              0\n",
       "Pets            330\n",
       "Dishwasher        0\n",
       "AC                0\n",
       "dtype: int64"
      ]
     },
     "execution_count": 15,
     "metadata": {},
     "output_type": "execute_result"
    }
   ],
   "source": [
    "T.isnull().sum()"
   ]
  },
  {
   "cell_type": "code",
   "execution_count": 16,
   "id": "ba6ce4af",
   "metadata": {},
   "outputs": [],
   "source": [
    "numerical_columns = T.select_dtypes(include=['int','float']).columns\n",
    "categorical_columns = T.select_dtypes(include=['object']).columns\n",
    "\n",
    "Tnumerical = T[numerical_columns]\n",
    "Tcategorical = T[categorical_columns]"
   ]
  },
  {
   "cell_type": "code",
   "execution_count": 17,
   "id": "e4f97721",
   "metadata": {},
   "outputs": [],
   "source": [
    "for i in Tcategorical:\n",
    "    Tcategorical[i]=Tcategorical[i].fillna(Tcategorical[i].mode()[0])"
   ]
  },
  {
   "cell_type": "code",
   "execution_count": 18,
   "id": "63d722e0",
   "metadata": {},
   "outputs": [
    {
     "data": {
      "text/plain": [
       "<AxesSubplot:>"
      ]
     },
     "execution_count": 18,
     "metadata": {},
     "output_type": "execute_result"
    },
    {
     "data": {
      "image/png": "[encoded data removed]",
      "text/plain": [
       "<Figure size 640x480 with 2 Axes>"
      ]
     },
     "metadata": {},
     "output_type": "display_data"
    }
   ],
   "source": [
    "sns.heatmap(Tnumerical.isnull())"
   ]
  },
  {
   "cell_type": "code",
   "execution_count": 19,
   "id": "d47d7083",
   "metadata": {},
   "outputs": [
    {
     "data": {
      "text/plain": [
       "<AxesSubplot:>"
      ]
     },
     "execution_count": 19,
     "metadata": {},
     "output_type": "execute_result"
    },
    {
     "data": {
      "image/png": "[encoded data removed]",
      "text/plain": [
       "<Figure size 640x480 with 2 Axes>"
      ]
     },
     "metadata": {},
     "output_type": "display_data"
    }
   ],
   "source": [
    "sns.heatmap(Tcategorical.isnull())"
   ]
  },
  {
   "cell_type": "code",
   "execution_count": 20,
   "id": "b3ebf24b",
   "metadata": {},
   "outputs": [
    {
     "data": {
      "image/png": "[encoded data removed]",
      "text/plain": [
       "<Figure size 640x480 with 1 Axes>"
      ]
     },
     "metadata": {},
     "output_type": "display_data"
    }
   ],
   "source": [
    "sns.countplot(x='Bed',data = T)\n",
    "plt.show()"
   ]
  },
  {
   "cell_type": "code",
   "execution_count": 21,
   "id": "b308afdb",
   "metadata": {},
   "outputs": [
    {
     "data": {
      "text/plain": [
       "<AxesSubplot:xlabel='Bed', ylabel='Price'>"
      ]
     },
     "execution_count": 21,
     "metadata": {},
     "output_type": "execute_result"
    },
    {
     "data": {
      "image/png": "[encoded data removed]",
      "text/plain": [
       "<Figure size 600x600 with 1 Axes>"
      ]
     },
     "metadata": {},
     "output_type": "display_data"
    }
   ],
   "source": [
    "plt.figure(figsize=(6,6))\n",
    "sns.barplot(x = 'Bed', y = 'Price', data = T)"
   ]
  },
  {
   "cell_type": "code",
   "execution_count": 22,
   "id": "c40e597d",
   "metadata": {},
   "outputs": [
    {
     "data": {
      "text/plain": [
       "<seaborn.axisgrid.FacetGrid at 0x161b0716970>"
      ]
     },
     "execution_count": 22,
     "metadata": {},
     "output_type": "execute_result"
    },
    {
     "data": {
      "text/plain": [
       "<Figure size 1000x4000 with 0 Axes>"
      ]
     },
     "metadata": {},
     "output_type": "display_data"
    },
    {
     "data": {
      "image/png": "[encoded data removed]",
      "text/plain": [
       "<Figure size 500x500 with 1 Axes>"
      ]
     },
     "metadata": {},
     "output_type": "display_data"
    }
   ],
   "source": [
    "plt.figure(figsize=(10,40))\n",
    "sns.lmplot(x = 'Price', y = 'Postal_code', data = Tnumerical)"
   ]
  },
  {
   "cell_type": "code",
   "execution_count": 23,
   "id": "12fb0335",
   "metadata": {},
   "outputs": [
    {
     "data": {
      "image/png": "[encoded data removed]",
      "text/plain": [
       "<Figure size 2500x3000 with 2 Axes>"
      ]
     },
     "metadata": {},
     "output_type": "display_data"
    }
   ],
   "source": [
    "plt.figure(figsize=(25,30))\n",
    "plotnumber = 1\n",
    "for column in Tnumerical.columns:\n",
    "    if pd.api.types.is_numeric_dtype(Tnumerical[column]):\n",
    "        if plotnumber<=6:\n",
    "            ax = plt.subplot(4,4,plotnumber)\n",
    "            sns.distplot(T[column])\n",
    "            plt.xlabel(column,fontsize = 10)\n",
    "        plotnumber+=1\n",
    "plt.show()"
   ]
  },
  {
   "cell_type": "code",
   "execution_count": 24,
   "id": "06750aa5",
   "metadata": {},
   "outputs": [
    {
     "data": {
      "image/png": "[encoded data removed]",
      "text/plain": [
       "<Figure size 2500x3000 with 2 Axes>"
      ]
     },
     "metadata": {},
     "output_type": "display_data"
    }
   ],
   "source": [
    "plt.figure(figsize=(25,30))\n",
    "plotnumber = 1\n",
    "for column in Tnumerical.columns:\n",
    "    if pd.api.types.is_numeric_dtype(Tnumerical[column]):\n",
    "        if plotnumber<=6:\n",
    "            ax = plt.subplot(4,4,plotnumber)\n",
    "            sns.boxplot(Tnumerical[column])\n",
    "            plt.xlabel(column,fontsize = 10)\n",
    "        plotnumber+=1\n",
    "plt.show()"
   ]
  },
  {
   "cell_type": "code",
   "execution_count": 25,
   "id": "239ff9bf",
   "metadata": {},
   "outputs": [
    {
     "data": {
      "text/plain": [
       "Postal_code         1.0\n",
       "Price          143839.0\n",
       "Name: 0.25, dtype: float64"
      ]
     },
     "execution_count": 25,
     "metadata": {},
     "output_type": "execute_result"
    }
   ],
   "source": [
    "q1 = Tnumerical.quantile(0.25)\n",
    "q3 = Tnumerical.quantile(0.75)\n",
    "iqr = q3-q1\n",
    "q1"
   ]
  },
  {
   "cell_type": "code",
   "execution_count": 26,
   "id": "f6d6e02a",
   "metadata": {},
   "outputs": [
    {
     "name": "stdout",
     "output_type": "stream",
     "text": [
      "3965.5\n",
      "(4205, 2)\n"
     ]
    },
    {
     "data": {
      "text/html": [
       "<div>\n",
       "<style scoped>\n",
       "    .dataframe tbody tr th:only-of-type {\n",
       "        vertical-align: middle;\n",
       "    }\n",
       "\n",
       "    .dataframe tbody tr th {\n",
       "        vertical-align: top;\n",
       "    }\n",
       "\n",
       "    .dataframe thead th {\n",
       "        text-align: right;\n",
       "    }\n",
       "</style>\n",
       "<table border=\"1\" class=\"dataframe\">\n",
       "  <thead>\n",
       "    <tr style=\"text-align: right;\">\n",
       "      <th></th>\n",
       "      <th>index</th>\n",
       "      <th>Postal_code</th>\n",
       "      <th>Price</th>\n",
       "    </tr>\n",
       "  </thead>\n",
       "  <tbody>\n",
       "    <tr>\n",
       "      <th>0</th>\n",
       "      <td>0</td>\n",
       "      <td>550.0</td>\n",
       "      <td>207550.0</td>\n",
       "    </tr>\n",
       "    <tr>\n",
       "      <th>1</th>\n",
       "      <td>3</td>\n",
       "      <td>2644.0</td>\n",
       "      <td>174342.0</td>\n",
       "    </tr>\n",
       "    <tr>\n",
       "      <th>2</th>\n",
       "      <td>6</td>\n",
       "      <td>1701.0</td>\n",
       "      <td>348684.0</td>\n",
       "    </tr>\n",
       "    <tr>\n",
       "      <th>3</th>\n",
       "      <td>7</td>\n",
       "      <td>1.0</td>\n",
       "      <td>637594.0</td>\n",
       "    </tr>\n",
       "    <tr>\n",
       "      <th>4</th>\n",
       "      <td>9</td>\n",
       "      <td>2442.0</td>\n",
       "      <td>190946.0</td>\n",
       "    </tr>\n",
       "    <tr>\n",
       "      <th>...</th>\n",
       "      <td>...</td>\n",
       "      <td>...</td>\n",
       "      <td>...</td>\n",
       "    </tr>\n",
       "    <tr>\n",
       "      <th>4200</th>\n",
       "      <td>5320</td>\n",
       "      <td>1.0</td>\n",
       "      <td>187659.0</td>\n",
       "    </tr>\n",
       "    <tr>\n",
       "      <th>4201</th>\n",
       "      <td>5321</td>\n",
       "      <td>4.0</td>\n",
       "      <td>329240.0</td>\n",
       "    </tr>\n",
       "    <tr>\n",
       "      <th>4202</th>\n",
       "      <td>5322</td>\n",
       "      <td>16.0</td>\n",
       "      <td>39477.0</td>\n",
       "    </tr>\n",
       "    <tr>\n",
       "      <th>4203</th>\n",
       "      <td>5323</td>\n",
       "      <td>1.0</td>\n",
       "      <td>34139.0</td>\n",
       "    </tr>\n",
       "    <tr>\n",
       "      <th>4204</th>\n",
       "      <td>5324</td>\n",
       "      <td>1.0</td>\n",
       "      <td>25449.0</td>\n",
       "    </tr>\n",
       "  </tbody>\n",
       "</table>\n",
       "<p>4205 rows × 3 columns</p>\n",
       "</div>"
      ],
      "text/plain": [
       "      index  Postal_code     Price\n",
       "0         0        550.0  207550.0\n",
       "1         3       2644.0  174342.0\n",
       "2         6       1701.0  348684.0\n",
       "3         7          1.0  637594.0\n",
       "4         9       2442.0  190946.0\n",
       "...     ...          ...       ...\n",
       "4200   5320          1.0  187659.0\n",
       "4201   5321          4.0  329240.0\n",
       "4202   5322         16.0   39477.0\n",
       "4203   5323          1.0   34139.0\n",
       "4204   5324          1.0   25449.0\n",
       "\n",
       "[4205 rows x 3 columns]"
      ]
     },
     "execution_count": 26,
     "metadata": {},
     "output_type": "execute_result"
    }
   ],
   "source": [
    "Postal_code_high = (q1['Postal_code']+(1.5*iqr['Postal_code']))\n",
    "print(Postal_code_high)\n",
    "\n",
    "index = np.where(T['Postal_code']>Postal_code_high)\n",
    "\n",
    "Tnumerical = Tnumerical.drop(T.index[index])\n",
    "print(Tnumerical.shape)\n",
    "\n",
    "Tnumerical.reset_index()"
   ]
  },
  {
   "cell_type": "code",
   "execution_count": 27,
   "id": "9b69857a",
   "metadata": {},
   "outputs": [
    {
     "data": {
      "text/plain": [
       "Postal_code    1.671398\n",
       "Price          5.690110\n",
       "dtype: float64"
      ]
     },
     "execution_count": 27,
     "metadata": {},
     "output_type": "execute_result"
    }
   ],
   "source": [
    "Tnumerical.skew()"
   ]
  },
  {
   "cell_type": "code",
   "execution_count": 28,
   "id": "5876eb85",
   "metadata": {},
   "outputs": [
    {
     "name": "stdout",
     "output_type": "stream",
     "text": [
      "(4205, 2)\n"
     ]
    }
   ],
   "source": [
    "Tnumerical['Postal_code'] = np.cbrt(Tnumerical['Postal_code'])\n",
    "Tnumerical.reset_index()\n",
    "print(Tnumerical.shape)"
   ]
  },
  {
   "cell_type": "code",
   "execution_count": 29,
   "id": "a7e0335b",
   "metadata": {},
   "outputs": [
    {
     "data": {
      "text/plain": [
       "Postal_code    0.952187\n",
       "Price          5.690110\n",
       "dtype: float64"
      ]
     },
     "execution_count": 29,
     "metadata": {},
     "output_type": "execute_result"
    }
   ],
   "source": [
    "Tnumerical.skew()"
   ]
  },
  {
   "cell_type": "code",
   "execution_count": 41,
   "id": "f98188a8",
   "metadata": {},
   "outputs": [
    {
     "data": {
      "text/plain": [
       "Postal_code    0\n",
       "Price          0\n",
       "dtype: int64"
      ]
     },
     "execution_count": 41,
     "metadata": {},
     "output_type": "execute_result"
    }
   ],
   "source": [
    "Tnumerical.isnull().sum()"
   ]
  },
  {
   "cell_type": "code",
   "execution_count": 31,
   "id": "e5379ac4",
   "metadata": {},
   "outputs": [],
   "source": [
    "Tcategorical['Address'] = Tcategorical['Address'].values.reshape(-1, 1)"
   ]
  },
  {
   "cell_type": "code",
   "execution_count": 42,
   "id": "43aec614",
   "metadata": {},
   "outputs": [
    {
     "data": {
      "text/html": [
       "<div>\n",
       "<style scoped>\n",
       "    .dataframe tbody tr th:only-of-type {\n",
       "        vertical-align: middle;\n",
       "    }\n",
       "\n",
       "    .dataframe tbody tr th {\n",
       "        vertical-align: top;\n",
       "    }\n",
       "\n",
       "    .dataframe thead th {\n",
       "        text-align: right;\n",
       "    }\n",
       "</style>\n",
       "<table border=\"1\" class=\"dataframe\">\n",
       "  <thead>\n",
       "    <tr style=\"text-align: right;\">\n",
       "      <th></th>\n",
       "      <th>Address</th>\n",
       "      <th>City</th>\n",
       "      <th>Country</th>\n",
       "      <th>Bed</th>\n",
       "      <th>Bath</th>\n",
       "      <th>Area</th>\n",
       "      <th>Pets</th>\n",
       "      <th>Dishwasher</th>\n",
       "      <th>AC</th>\n",
       "    </tr>\n",
       "  </thead>\n",
       "  <tbody>\n",
       "    <tr>\n",
       "      <th>0</th>\n",
       "      <td>46.0</td>\n",
       "      <td>70.0</td>\n",
       "      <td>17.0</td>\n",
       "      <td>4.0</td>\n",
       "      <td>5.0</td>\n",
       "      <td>37.0</td>\n",
       "      <td>4.0</td>\n",
       "      <td>10.0</td>\n",
       "      <td>7.0</td>\n",
       "    </tr>\n",
       "    <tr>\n",
       "      <th>1</th>\n",
       "      <td>100.0</td>\n",
       "      <td>87.0</td>\n",
       "      <td>28.0</td>\n",
       "      <td>0.0</td>\n",
       "      <td>1.0</td>\n",
       "      <td>93.0</td>\n",
       "      <td>4.0</td>\n",
       "      <td>10.0</td>\n",
       "      <td>7.0</td>\n",
       "    </tr>\n",
       "    <tr>\n",
       "      <th>2</th>\n",
       "      <td>45.0</td>\n",
       "      <td>87.0</td>\n",
       "      <td>28.0</td>\n",
       "      <td>3.0</td>\n",
       "      <td>5.0</td>\n",
       "      <td>29.0</td>\n",
       "      <td>4.0</td>\n",
       "      <td>10.0</td>\n",
       "      <td>7.0</td>\n",
       "    </tr>\n",
       "    <tr>\n",
       "      <th>3</th>\n",
       "      <td>33.0</td>\n",
       "      <td>87.0</td>\n",
       "      <td>28.0</td>\n",
       "      <td>3.0</td>\n",
       "      <td>4.0</td>\n",
       "      <td>35.0</td>\n",
       "      <td>4.0</td>\n",
       "      <td>10.0</td>\n",
       "      <td>7.0</td>\n",
       "    </tr>\n",
       "    <tr>\n",
       "      <th>4</th>\n",
       "      <td>56.0</td>\n",
       "      <td>87.0</td>\n",
       "      <td>28.0</td>\n",
       "      <td>3.0</td>\n",
       "      <td>4.0</td>\n",
       "      <td>18.0</td>\n",
       "      <td>4.0</td>\n",
       "      <td>10.0</td>\n",
       "      <td>7.0</td>\n",
       "    </tr>\n",
       "  </tbody>\n",
       "</table>\n",
       "</div>"
      ],
      "text/plain": [
       "   Address  City  Country  Bed  Bath  Area  Pets  Dishwasher   AC\n",
       "0     46.0  70.0     17.0  4.0   5.0  37.0   4.0        10.0  7.0\n",
       "1    100.0  87.0     28.0  0.0   1.0  93.0   4.0        10.0  7.0\n",
       "2     45.0  87.0     28.0  3.0   5.0  29.0   4.0        10.0  7.0\n",
       "3     33.0  87.0     28.0  3.0   4.0  35.0   4.0        10.0  7.0\n",
       "4     56.0  87.0     28.0  3.0   4.0  18.0   4.0        10.0  7.0"
      ]
     },
     "execution_count": 42,
     "metadata": {},
     "output_type": "execute_result"
    }
   ],
   "source": [
    "from sklearn.preprocessing import OrdinalEncoder\n",
    "from sklearn.preprocessing import OneHotEncoder\n",
    "OE = OrdinalEncoder()\n",
    "for i in Tcategorical.columns:\n",
    "    if Tcategorical[i].dtypes == 'object':\n",
    "        Tcategorical[i] = OE.fit_transform(Tcategorical[i].values.reshape(-1,1))\n",
    "Tcategorical.head()"
   ]
  },
  {
   "cell_type": "code",
   "execution_count": 43,
   "id": "5e3ed7cc",
   "metadata": {},
   "outputs": [
    {
     "data": {
      "text/html": [
       "<div>\n",
       "<style scoped>\n",
       "    .dataframe tbody tr th:only-of-type {\n",
       "        vertical-align: middle;\n",
       "    }\n",
       "\n",
       "    .dataframe tbody tr th {\n",
       "        vertical-align: top;\n",
       "    }\n",
       "\n",
       "    .dataframe thead th {\n",
       "        text-align: right;\n",
       "    }\n",
       "</style>\n",
       "<table border=\"1\" class=\"dataframe\">\n",
       "  <thead>\n",
       "    <tr style=\"text-align: right;\">\n",
       "      <th></th>\n",
       "      <th>Address</th>\n",
       "      <th>City</th>\n",
       "      <th>Country</th>\n",
       "      <th>Bed</th>\n",
       "      <th>Bath</th>\n",
       "      <th>Area</th>\n",
       "      <th>Pets</th>\n",
       "      <th>Dishwasher</th>\n",
       "      <th>AC</th>\n",
       "      <th>Postal_code</th>\n",
       "      <th>Price</th>\n",
       "    </tr>\n",
       "  </thead>\n",
       "  <tbody>\n",
       "    <tr>\n",
       "      <th>0</th>\n",
       "      <td>46.0</td>\n",
       "      <td>70.0</td>\n",
       "      <td>17.0</td>\n",
       "      <td>4.0</td>\n",
       "      <td>5.0</td>\n",
       "      <td>37.0</td>\n",
       "      <td>4.0</td>\n",
       "      <td>10.0</td>\n",
       "      <td>7.0</td>\n",
       "      <td>8.193213</td>\n",
       "      <td>207550.0</td>\n",
       "    </tr>\n",
       "    <tr>\n",
       "      <th>1</th>\n",
       "      <td>100.0</td>\n",
       "      <td>87.0</td>\n",
       "      <td>28.0</td>\n",
       "      <td>0.0</td>\n",
       "      <td>1.0</td>\n",
       "      <td>93.0</td>\n",
       "      <td>4.0</td>\n",
       "      <td>10.0</td>\n",
       "      <td>7.0</td>\n",
       "      <td>NaN</td>\n",
       "      <td>NaN</td>\n",
       "    </tr>\n",
       "    <tr>\n",
       "      <th>2</th>\n",
       "      <td>45.0</td>\n",
       "      <td>87.0</td>\n",
       "      <td>28.0</td>\n",
       "      <td>3.0</td>\n",
       "      <td>5.0</td>\n",
       "      <td>29.0</td>\n",
       "      <td>4.0</td>\n",
       "      <td>10.0</td>\n",
       "      <td>7.0</td>\n",
       "      <td>NaN</td>\n",
       "      <td>NaN</td>\n",
       "    </tr>\n",
       "    <tr>\n",
       "      <th>3</th>\n",
       "      <td>33.0</td>\n",
       "      <td>87.0</td>\n",
       "      <td>28.0</td>\n",
       "      <td>3.0</td>\n",
       "      <td>4.0</td>\n",
       "      <td>35.0</td>\n",
       "      <td>4.0</td>\n",
       "      <td>10.0</td>\n",
       "      <td>7.0</td>\n",
       "      <td>13.827823</td>\n",
       "      <td>174342.0</td>\n",
       "    </tr>\n",
       "    <tr>\n",
       "      <th>4</th>\n",
       "      <td>56.0</td>\n",
       "      <td>87.0</td>\n",
       "      <td>28.0</td>\n",
       "      <td>3.0</td>\n",
       "      <td>4.0</td>\n",
       "      <td>18.0</td>\n",
       "      <td>4.0</td>\n",
       "      <td>10.0</td>\n",
       "      <td>7.0</td>\n",
       "      <td>NaN</td>\n",
       "      <td>NaN</td>\n",
       "    </tr>\n",
       "  </tbody>\n",
       "</table>\n",
       "</div>"
      ],
      "text/plain": [
       "   Address  City  Country  Bed  Bath  Area  Pets  Dishwasher   AC  \\\n",
       "0     46.0  70.0     17.0  4.0   5.0  37.0   4.0        10.0  7.0   \n",
       "1    100.0  87.0     28.0  0.0   1.0  93.0   4.0        10.0  7.0   \n",
       "2     45.0  87.0     28.0  3.0   5.0  29.0   4.0        10.0  7.0   \n",
       "3     33.0  87.0     28.0  3.0   4.0  35.0   4.0        10.0  7.0   \n",
       "4     56.0  87.0     28.0  3.0   4.0  18.0   4.0        10.0  7.0   \n",
       "\n",
       "   Postal_code     Price  \n",
       "0     8.193213  207550.0  \n",
       "1          NaN       NaN  \n",
       "2          NaN       NaN  \n",
       "3    13.827823  174342.0  \n",
       "4          NaN       NaN  "
      ]
     },
     "execution_count": 43,
     "metadata": {},
     "output_type": "execute_result"
    }
   ],
   "source": [
    "New_Data = pd.concat([Tcategorical,Tnumerical], axis=1)\n",
    "New_Data.head()"
   ]
  },
  {
   "cell_type": "code",
   "execution_count": 44,
   "id": "516e6363",
   "metadata": {},
   "outputs": [],
   "source": [
    "New_Data['Price']= np.ceil(New_Data['Price'].fillna(New_Data['Price'].mean()))\n",
    "New_Data['Postal_code']= New_Data['Postal_code'].fillna(New_Data['Postal_code'].mode()[0])"
   ]
  },
  {
   "cell_type": "code",
   "execution_count": 45,
   "id": "abbd0601",
   "metadata": {},
   "outputs": [
    {
     "data": {
      "text/plain": [
       "Address        0\n",
       "City           0\n",
       "Country        0\n",
       "Bed            0\n",
       "Bath           0\n",
       "Area           0\n",
       "Pets           0\n",
       "Dishwasher     0\n",
       "AC             0\n",
       "Postal_code    0\n",
       "Price          0\n",
       "dtype: int64"
      ]
     },
     "execution_count": 45,
     "metadata": {},
     "output_type": "execute_result"
    }
   ],
   "source": [
    "New_Data.isnull().sum()"
   ]
  },
  {
   "cell_type": "code",
   "execution_count": 46,
   "id": "5c14cc13",
   "metadata": {},
   "outputs": [
    {
     "name": "stdout",
     "output_type": "stream",
     "text": [
      "<class 'pandas.core.frame.DataFrame'>\n",
      "Int64Index: 5325 entries, 0 to 5324\n",
      "Data columns (total 11 columns):\n",
      " #   Column       Non-Null Count  Dtype  \n",
      "---  ------       --------------  -----  \n",
      " 0   Address      5325 non-null   float64\n",
      " 1   City         5325 non-null   float64\n",
      " 2   Country      5325 non-null   float64\n",
      " 3   Bed          5325 non-null   float64\n",
      " 4   Bath         5325 non-null   float64\n",
      " 5   Area         5325 non-null   float64\n",
      " 6   Pets         5325 non-null   float64\n",
      " 7   Dishwasher   5325 non-null   float64\n",
      " 8   AC           5325 non-null   float64\n",
      " 9   Postal_code  5325 non-null   float64\n",
      " 10  Price        5325 non-null   float64\n",
      "dtypes: float64(11)\n",
      "memory usage: 499.2 KB\n"
     ]
    }
   ],
   "source": [
    "New_Data.info()"
   ]
  },
  {
   "cell_type": "code",
   "execution_count": 47,
   "id": "7825dfe1",
   "metadata": {},
   "outputs": [],
   "source": [
    "Features = New_Data.drop(columns = ['Price'])\n",
    "Label = New_Data['Price']"
   ]
  },
  {
   "cell_type": "code",
   "execution_count": 48,
   "id": "9d08cf21",
   "metadata": {},
   "outputs": [
    {
     "data": {
      "text/html": [
       "<div>\n",
       "<style scoped>\n",
       "    .dataframe tbody tr th:only-of-type {\n",
       "        vertical-align: middle;\n",
       "    }\n",
       "\n",
       "    .dataframe tbody tr th {\n",
       "        vertical-align: top;\n",
       "    }\n",
       "\n",
       "    .dataframe thead th {\n",
       "        text-align: right;\n",
       "    }\n",
       "</style>\n",
       "<table border=\"1\" class=\"dataframe\">\n",
       "  <thead>\n",
       "    <tr style=\"text-align: right;\">\n",
       "      <th></th>\n",
       "      <th>Address</th>\n",
       "      <th>City</th>\n",
       "      <th>Country</th>\n",
       "      <th>Bed</th>\n",
       "      <th>Bath</th>\n",
       "      <th>Area</th>\n",
       "      <th>Pets</th>\n",
       "      <th>Dishwasher</th>\n",
       "      <th>AC</th>\n",
       "      <th>Postal_code</th>\n",
       "    </tr>\n",
       "  </thead>\n",
       "  <tbody>\n",
       "    <tr>\n",
       "      <th>0</th>\n",
       "      <td>-1.122526</td>\n",
       "      <td>0.120787</td>\n",
       "      <td>-0.972603</td>\n",
       "      <td>-0.051407</td>\n",
       "      <td>0.380205</td>\n",
       "      <td>-0.501365</td>\n",
       "      <td>0.707381</td>\n",
       "      <td>-0.106940</td>\n",
       "      <td>0.901008</td>\n",
       "      <td>0.878562</td>\n",
       "    </tr>\n",
       "    <tr>\n",
       "      <th>1</th>\n",
       "      <td>-0.441355</td>\n",
       "      <td>0.886272</td>\n",
       "      <td>0.864613</td>\n",
       "      <td>-1.127012</td>\n",
       "      <td>-0.658713</td>\n",
       "      <td>0.636739</td>\n",
       "      <td>0.707381</td>\n",
       "      <td>-0.106940</td>\n",
       "      <td>0.901008</td>\n",
       "      <td>-0.705248</td>\n",
       "    </tr>\n",
       "    <tr>\n",
       "      <th>2</th>\n",
       "      <td>-1.135140</td>\n",
       "      <td>0.886272</td>\n",
       "      <td>0.864613</td>\n",
       "      <td>-0.320308</td>\n",
       "      <td>0.380205</td>\n",
       "      <td>-0.663952</td>\n",
       "      <td>0.707381</td>\n",
       "      <td>-0.106940</td>\n",
       "      <td>0.901008</td>\n",
       "      <td>-0.705248</td>\n",
       "    </tr>\n",
       "    <tr>\n",
       "      <th>3</th>\n",
       "      <td>-1.286512</td>\n",
       "      <td>0.886272</td>\n",
       "      <td>0.864613</td>\n",
       "      <td>-0.320308</td>\n",
       "      <td>0.120476</td>\n",
       "      <td>-0.542012</td>\n",
       "      <td>0.707381</td>\n",
       "      <td>-0.106940</td>\n",
       "      <td>0.901008</td>\n",
       "      <td>2.119198</td>\n",
       "    </tr>\n",
       "    <tr>\n",
       "      <th>4</th>\n",
       "      <td>-0.996383</td>\n",
       "      <td>0.886272</td>\n",
       "      <td>0.864613</td>\n",
       "      <td>-0.320308</td>\n",
       "      <td>0.120476</td>\n",
       "      <td>-0.887508</td>\n",
       "      <td>0.707381</td>\n",
       "      <td>-0.106940</td>\n",
       "      <td>0.901008</td>\n",
       "      <td>-0.705248</td>\n",
       "    </tr>\n",
       "    <tr>\n",
       "      <th>...</th>\n",
       "      <td>...</td>\n",
       "      <td>...</td>\n",
       "      <td>...</td>\n",
       "      <td>...</td>\n",
       "      <td>...</td>\n",
       "      <td>...</td>\n",
       "      <td>...</td>\n",
       "      <td>...</td>\n",
       "      <td>...</td>\n",
       "      <td>...</td>\n",
       "    </tr>\n",
       "    <tr>\n",
       "      <th>5320</th>\n",
       "      <td>1.463401</td>\n",
       "      <td>1.786844</td>\n",
       "      <td>0.363554</td>\n",
       "      <td>-1.127012</td>\n",
       "      <td>-0.658713</td>\n",
       "      <td>0.433506</td>\n",
       "      <td>-0.401808</td>\n",
       "      <td>-1.064013</td>\n",
       "      <td>-1.193869</td>\n",
       "      <td>-0.705248</td>\n",
       "    </tr>\n",
       "    <tr>\n",
       "      <th>5321</th>\n",
       "      <td>-1.614483</td>\n",
       "      <td>0.120787</td>\n",
       "      <td>0.363554</td>\n",
       "      <td>-0.589210</td>\n",
       "      <td>0.120476</td>\n",
       "      <td>0.799326</td>\n",
       "      <td>-0.401808</td>\n",
       "      <td>-1.255427</td>\n",
       "      <td>-0.894601</td>\n",
       "      <td>-0.575913</td>\n",
       "    </tr>\n",
       "    <tr>\n",
       "      <th>5322</th>\n",
       "      <td>-0.933312</td>\n",
       "      <td>-2.490871</td>\n",
       "      <td>0.363554</td>\n",
       "      <td>0.486396</td>\n",
       "      <td>2.458042</td>\n",
       "      <td>-1.253327</td>\n",
       "      <td>0.707381</td>\n",
       "      <td>-0.106940</td>\n",
       "      <td>2.098081</td>\n",
       "      <td>-0.370607</td>\n",
       "    </tr>\n",
       "    <tr>\n",
       "      <th>5323</th>\n",
       "      <td>0.063216</td>\n",
       "      <td>-0.554642</td>\n",
       "      <td>0.363554</td>\n",
       "      <td>0.486396</td>\n",
       "      <td>-0.658713</td>\n",
       "      <td>-1.253327</td>\n",
       "      <td>0.707381</td>\n",
       "      <td>-0.106940</td>\n",
       "      <td>2.098081</td>\n",
       "      <td>-0.705248</td>\n",
       "    </tr>\n",
       "    <tr>\n",
       "      <th>5324</th>\n",
       "      <td>0.883144</td>\n",
       "      <td>0.165815</td>\n",
       "      <td>0.363554</td>\n",
       "      <td>0.755297</td>\n",
       "      <td>2.458042</td>\n",
       "      <td>-1.253327</td>\n",
       "      <td>0.707381</td>\n",
       "      <td>-0.106940</td>\n",
       "      <td>2.098081</td>\n",
       "      <td>-0.705248</td>\n",
       "    </tr>\n",
       "  </tbody>\n",
       "</table>\n",
       "<p>5325 rows × 10 columns</p>\n",
       "</div>"
      ],
      "text/plain": [
       "       Address      City   Country       Bed      Bath      Area      Pets  \\\n",
       "0    -1.122526  0.120787 -0.972603 -0.051407  0.380205 -0.501365  0.707381   \n",
       "1    -0.441355  0.886272  0.864613 -1.127012 -0.658713  0.636739  0.707381   \n",
       "2    -1.135140  0.886272  0.864613 -0.320308  0.380205 -0.663952  0.707381   \n",
       "3    -1.286512  0.886272  0.864613 -0.320308  0.120476 -0.542012  0.707381   \n",
       "4    -0.996383  0.886272  0.864613 -0.320308  0.120476 -0.887508  0.707381   \n",
       "...        ...       ...       ...       ...       ...       ...       ...   \n",
       "5320  1.463401  1.786844  0.363554 -1.127012 -0.658713  0.433506 -0.401808   \n",
       "5321 -1.614483  0.120787  0.363554 -0.589210  0.120476  0.799326 -0.401808   \n",
       "5322 -0.933312 -2.490871  0.363554  0.486396  2.458042 -1.253327  0.707381   \n",
       "5323  0.063216 -0.554642  0.363554  0.486396 -0.658713 -1.253327  0.707381   \n",
       "5324  0.883144  0.165815  0.363554  0.755297  2.458042 -1.253327  0.707381   \n",
       "\n",
       "      Dishwasher        AC  Postal_code  \n",
       "0      -0.106940  0.901008     0.878562  \n",
       "1      -0.106940  0.901008    -0.705248  \n",
       "2      -0.106940  0.901008    -0.705248  \n",
       "3      -0.106940  0.901008     2.119198  \n",
       "4      -0.106940  0.901008    -0.705248  \n",
       "...          ...       ...          ...  \n",
       "5320   -1.064013 -1.193869    -0.705248  \n",
       "5321   -1.255427 -0.894601    -0.575913  \n",
       "5322   -0.106940  2.098081    -0.370607  \n",
       "5323   -0.106940  2.098081    -0.705248  \n",
       "5324   -0.106940  2.098081    -0.705248  \n",
       "\n",
       "[5325 rows x 10 columns]"
      ]
     },
     "execution_count": 48,
     "metadata": {},
     "output_type": "execute_result"
    }
   ],
   "source": [
    "scaler = StandardScaler()\n",
    "Features = pd.DataFrame(scaler.fit_transform(Features),columns = Features.columns)\n",
    "Features"
   ]
  },
  {
   "cell_type": "code",
   "execution_count": 49,
   "id": "3f3156a1",
   "metadata": {},
   "outputs": [
    {
     "data": {
      "text/html": [
       "<div>\n",
       "<style scoped>\n",
       "    .dataframe tbody tr th:only-of-type {\n",
       "        vertical-align: middle;\n",
       "    }\n",
       "\n",
       "    .dataframe tbody tr th {\n",
       "        vertical-align: top;\n",
       "    }\n",
       "\n",
       "    .dataframe thead th {\n",
       "        text-align: right;\n",
       "    }\n",
       "</style>\n",
       "<table border=\"1\" class=\"dataframe\">\n",
       "  <thead>\n",
       "    <tr style=\"text-align: right;\">\n",
       "      <th></th>\n",
       "      <th>vif values</th>\n",
       "      <th>features</th>\n",
       "    </tr>\n",
       "  </thead>\n",
       "  <tbody>\n",
       "    <tr>\n",
       "      <th>0</th>\n",
       "      <td>1.150203</td>\n",
       "      <td>Address</td>\n",
       "    </tr>\n",
       "    <tr>\n",
       "      <th>1</th>\n",
       "      <td>1.070164</td>\n",
       "      <td>City</td>\n",
       "    </tr>\n",
       "    <tr>\n",
       "      <th>2</th>\n",
       "      <td>1.157610</td>\n",
       "      <td>Country</td>\n",
       "    </tr>\n",
       "    <tr>\n",
       "      <th>3</th>\n",
       "      <td>1.107606</td>\n",
       "      <td>Bed</td>\n",
       "    </tr>\n",
       "    <tr>\n",
       "      <th>4</th>\n",
       "      <td>1.154170</td>\n",
       "      <td>Bath</td>\n",
       "    </tr>\n",
       "    <tr>\n",
       "      <th>5</th>\n",
       "      <td>1.268893</td>\n",
       "      <td>Area</td>\n",
       "    </tr>\n",
       "    <tr>\n",
       "      <th>6</th>\n",
       "      <td>1.171358</td>\n",
       "      <td>Pets</td>\n",
       "    </tr>\n",
       "    <tr>\n",
       "      <th>7</th>\n",
       "      <td>1.040403</td>\n",
       "      <td>Dishwasher</td>\n",
       "    </tr>\n",
       "    <tr>\n",
       "      <th>8</th>\n",
       "      <td>1.411391</td>\n",
       "      <td>AC</td>\n",
       "    </tr>\n",
       "    <tr>\n",
       "      <th>9</th>\n",
       "      <td>1.107454</td>\n",
       "      <td>Postal_code</td>\n",
       "    </tr>\n",
       "  </tbody>\n",
       "</table>\n",
       "</div>"
      ],
      "text/plain": [
       "   vif values     features\n",
       "0    1.150203      Address\n",
       "1    1.070164         City\n",
       "2    1.157610      Country\n",
       "3    1.107606          Bed\n",
       "4    1.154170         Bath\n",
       "5    1.268893         Area\n",
       "6    1.171358         Pets\n",
       "7    1.040403   Dishwasher\n",
       "8    1.411391           AC\n",
       "9    1.107454  Postal_code"
      ]
     },
     "execution_count": 49,
     "metadata": {},
     "output_type": "execute_result"
    }
   ],
   "source": [
    "vif = pd.DataFrame()\n",
    "vif['vif values']= [variance_inflation_factor(Features.values, i) for i in range(len(Features.columns))]\n",
    "vif['features'] = Features.columns\n",
    "vif"
   ]
  },
  {
   "cell_type": "code",
   "execution_count": 50,
   "id": "217d6658",
   "metadata": {},
   "outputs": [],
   "source": [
    "from sklearn.model_selection import train_test_split\n",
    "from sklearn.metrics import mean_absolute_error\n",
    "from sklearn.metrics import mean_squared_error\n",
    "from sklearn.metrics import r2_score\n",
    "from sklearn.model_selection import KFold,cross_val_score\n",
    "from sklearn.neighbors import KNeighborsRegressor as KNN\n",
    "from sklearn.linear_model import Lasso,Ridge\n",
    "from sklearn.linear_model import LinearRegression\n",
    "from sklearn.ensemble import RandomForestClassifier\n",
    "from sklearn.ensemble import RandomForestRegressor\n",
    "from sklearn.tree import DecisionTreeRegressor as DT"
   ]
  },
  {
   "cell_type": "code",
   "execution_count": 51,
   "id": "5a961751",
   "metadata": {},
   "outputs": [
    {
     "name": "stdout",
     "output_type": "stream",
     "text": [
      "maximum r2 score is = 0.06733680358555127 \n",
      " random state =  104\n"
     ]
    }
   ],
   "source": [
    "MaxAccu = 0\n",
    "MaxRS = 0\n",
    "for i in range(1,300):\n",
    "    x_train,x_test,y_train,y_test = train_test_split(Features,Label,test_size = .30, random_state = i)\n",
    "    lr= LinearRegression()\n",
    "    lr.fit(x_train,y_train)\n",
    "    pred = lr.predict(x_test)\n",
    "    acc = r2_score(y_test,pred)\n",
    "    if acc>MaxAccu:\n",
    "        MaxAccu = acc\n",
    "        MaxRS = i\n",
    "print('maximum r2 score is =',MaxAccu,'\\n random state = ',MaxRS)"
   ]
  },
  {
   "cell_type": "code",
   "execution_count": 52,
   "id": "ab6c10c7",
   "metadata": {},
   "outputs": [],
   "source": [
    "x_train,x_test,y_train,y_test = train_test_split(Features,Label, test_size = 0.30, random_state = MaxRS)"
   ]
  },
  {
   "cell_type": "code",
   "execution_count": 53,
   "id": "15b22f44",
   "metadata": {},
   "outputs": [
    {
     "name": "stdout",
     "output_type": "stream",
     "text": [
      "R2 score: 0.9938247358964698\n",
      "R2 score on training Data: 0.9964011260583135\n",
      "Mean absolute Error: 36284.143304130164\n",
      "Mean squared Error: 123698674715.30402\n",
      "Root mean squared Error: 351708.22383803315\n"
     ]
    }
   ],
   "source": [
    "knn = KNN()\n",
    "knn.fit(x_train,y_train)\n",
    "pred_knn = knn.predict(x_test)\n",
    "pred_train = knn.predict(x_train)\n",
    "print ('R2 score:', r2_score(y_test,pred_knn))\n",
    "print ('R2 score on training Data:',r2_score(y_train,pred_train))\n",
    "print ('Mean absolute Error:', mean_absolute_error(y_test,pred_knn))\n",
    "print ('Mean squared Error:', mean_squared_error(y_test,pred_knn))\n",
    "print ('Root mean squared Error:', np.sqrt(mean_squared_error(y_test,pred_knn)))"
   ]
  },
  {
   "cell_type": "code",
   "execution_count": 54,
   "id": "11bcfca8",
   "metadata": {},
   "outputs": [
    {
     "name": "stdout",
     "output_type": "stream",
     "text": [
      "R2 score: 0.06733680358555127\n",
      "R2 score on training Data: 0.04574927381475602\n",
      "Mean absolute Error: 1723162.4355982642\n",
      "Mean squared Error: 18682472428386.28\n",
      "Root mean squared Error: 4322322.573384162\n"
     ]
    }
   ],
   "source": [
    "lr = LinearRegression()\n",
    "lr.fit(x_train,y_train)\n",
    "pred_lr = lr.predict(x_test)\n",
    "pred_train = lr.predict(x_train)\n",
    "print ('R2 score:', r2_score(y_test,pred_lr))\n",
    "print ('R2 score on training Data:',r2_score(y_train,pred_train))\n",
    "print ('Mean absolute Error:', mean_absolute_error(y_test,pred_lr))\n",
    "print ('Mean squared Error:', mean_squared_error(y_test,pred_lr))\n",
    "print ('Root mean squared Error:', np.sqrt(mean_squared_error(y_test,pred_lr)))"
   ]
  },
  {
   "cell_type": "code",
   "execution_count": 55,
   "id": "c3727256",
   "metadata": {},
   "outputs": [
    {
     "name": "stdout",
     "output_type": "stream",
     "text": [
      "R2 score: 0.06733674195048556\n",
      "R2 score on training Data: 0.04574927381402527\n",
      "Mean absolute Error: 1723161.597836804\n",
      "Mean squared Error: 18682473663017.844\n",
      "Root mean squared Error: 4322322.716204546\n"
     ]
    }
   ],
   "source": [
    "la = Lasso()\n",
    "la.fit(x_train,y_train)\n",
    "pred_la = la.predict(x_test)\n",
    "pred_train = la.predict(x_train)\n",
    "print ('R2 score:', r2_score(y_test,pred_la))\n",
    "print ('R2 score on training Data:',r2_score(y_train,pred_train))\n",
    "print ('Mean absolute Error:', mean_absolute_error(y_test,pred_la))\n",
    "print ('Mean squared Error:', mean_squared_error(y_test,pred_la))\n",
    "print ('Root mean squared Error:', np.sqrt(mean_squared_error(y_test,pred_la)))"
   ]
  },
  {
   "cell_type": "code",
   "execution_count": 56,
   "id": "38ae924c",
   "metadata": {},
   "outputs": [
    {
     "data": {
      "text/plain": [
       "array([  130449.,   373590.,  1796553., ...,   190946., 14589674.,\n",
       "         569343.])"
      ]
     },
     "execution_count": 56,
     "metadata": {},
     "output_type": "execute_result"
    }
   ],
   "source": [
    "log_reg = LogisticRegression()\n",
    "log_reg.fit(x_train,y_train)\n",
    "y_pred =log_reg.predict(x_test)\n",
    "y_pred"
   ]
  },
  {
   "cell_type": "code",
   "execution_count": 57,
   "id": "3757783d",
   "metadata": {},
   "outputs": [
    {
     "data": {
      "text/plain": [
       "0.7553191489361702"
      ]
     },
     "execution_count": 57,
     "metadata": {},
     "output_type": "execute_result"
    }
   ],
   "source": [
    "accuracy = accuracy_score(y_test,y_pred)\n",
    "accuracy"
   ]
  },
  {
   "cell_type": "code",
   "execution_count": 58,
   "id": "c6135a10",
   "metadata": {},
   "outputs": [
    {
     "name": "stdout",
     "output_type": "stream",
     "text": [
      "R2 score: 97.92949447908194\n",
      "R2 score on training Data: 98.48778379634828\n",
      "Mean absolute Error: 17023103.128911138\n",
      "Mean squared Error: 41474953076398.75\n",
      "Root mean squared Error: 6440105.05165861\n"
     ]
    }
   ],
   "source": [
    "lg = LogisticRegression()\n",
    "lg.fit(x_train,y_train)\n",
    "pred_lg = lg.predict(x_test)\n",
    "pred_train = lg.predict(x_train)\n",
    "print ('R2 score:', r2_score(y_test,pred_lg)*100)\n",
    "print ('R2 score on training Data:',r2_score(y_train,pred_train)*100)\n",
    "print ('Mean absolute Error:', mean_absolute_error(y_test,pred_lg)*100)\n",
    "print ('Mean squared Error:', mean_squared_error(y_test,pred_lg)*100)\n",
    "print ('Root mean squared Error:', np.sqrt(mean_squared_error(y_test,pred_lg)*100))\n"
   ]
  },
  {
   "cell_type": "code",
   "execution_count": 59,
   "id": "170e9de4",
   "metadata": {},
   "outputs": [],
   "source": [
    "from sklearn.model_selection import cross_val_score"
   ]
  },
  {
   "cell_type": "code",
   "execution_count": 60,
   "id": "6142f466",
   "metadata": {},
   "outputs": [
    {
     "name": "stdout",
     "output_type": "stream",
     "text": [
      "[ -4.40574941  -0.16311027  -4.8997745   -2.29070434 -46.3301642 ]\n",
      "-11.617900544033821\n",
      "The difference r2 score and cross validation score =  1168.5237347619372\n"
     ]
    }
   ],
   "source": [
    "score = cross_val_score(lr,Features,Label, cv = 5, scoring ='r2')\n",
    "print(score)\n",
    "print(score.mean())\n",
    "print('The difference r2 score and cross validation score = ', (r2_score(y_test,pred_lr)-score.mean())*100)"
   ]
  },
  {
   "cell_type": "code",
   "execution_count": 61,
   "id": "ff0a13dc",
   "metadata": {},
   "outputs": [
    {
     "name": "stdout",
     "output_type": "stream",
     "text": [
      "[-4.18238767e+01 -1.90788314e-01 -7.52418612e-01  1.06632427e-01\n",
      " -2.52549306e+02]\n",
      "-59.04195153340861\n",
      "The difference r2 score and cross validation score =  6003.577626930508\n"
     ]
    }
   ],
   "source": [
    "score = cross_val_score(knn,Features,Label, cv = 5, scoring ='r2')\n",
    "print(score)\n",
    "print(score.mean())\n",
    "print('The difference r2 score and cross validation score = ', (r2_score(y_test,pred_knn)-score.mean())*100)"
   ]
  },
  {
   "cell_type": "code",
   "execution_count": 62,
   "id": "aea91247",
   "metadata": {},
   "outputs": [
    {
     "name": "stdout",
     "output_type": "stream",
     "text": [
      "[ -4.40574178  -0.16311005  -4.89974957  -2.29069435 -46.33003661]\n",
      "-11.617866469800694\n",
      "The difference r2 score and cross validation score =  1168.520321175118\n"
     ]
    }
   ],
   "source": [
    "score = cross_val_score(la,Features,Label, cv = 5, scoring ='r2')\n",
    "print(score)\n",
    "print(score.mean())\n",
    "print('The difference r2 score and cross validation score = ', (r2_score(y_test,pred_la)-score.mean())*100)"
   ]
  },
  {
   "cell_type": "code",
   "execution_count": 63,
   "id": "8a297b23",
   "metadata": {},
   "outputs": [
    {
     "name": "stdout",
     "output_type": "stream",
     "text": [
      "[0.9949075  0.99326337 0.98410468 0.9800878  0.98519973]\n",
      "0.9875126143839669\n",
      "The difference r2 score and cross validation score =  -0.8217669593147514\n"
     ]
    }
   ],
   "source": [
    "score = cross_val_score(lg,Features,Label, cv = 5, scoring ='r2')\n",
    "print(score)\n",
    "print(score.mean())\n",
    "print('The difference r2 score and cross validation score = ', (r2_score(y_test,pred_lg)-score.mean())*100)"
   ]
  },
  {
   "cell_type": "code",
   "execution_count": 64,
   "id": "727268ae",
   "metadata": {},
   "outputs": [],
   "source": [
    "from sklearn.model_selection import GridSearchCV\n",
    "params_grid = {'fit_intercept':[True,False],\n",
    "             'multi_class': [ 'auto'],\n",
    "             'penalty': ['l1', 'l2', 'elasticnet', 'none'],\n",
    "             'C': [0.001, 0.01, 0.1, 1, 10],\n",
    "             'solver': ['liblinear', 'saga'] \n",
    "             }\n",
    "grid_search =GridSearchCV(estimator=lg, param_grid = params_grid, cv = 5)\n"
   ]
  },
  {
   "cell_type": "code",
   "execution_count": 65,
   "id": "dc6c998d",
   "metadata": {},
   "outputs": [
    {
     "data": {
      "text/plain": [
       "GridSearchCV(cv=5, estimator=LogisticRegression(),\n",
       "             param_grid={'C': [0.001, 0.01, 0.1, 1, 10],\n",
       "                         'fit_intercept': [True, False],\n",
       "                         'multi_class': ['auto'],\n",
       "                         'penalty': ['l1', 'l2', 'elasticnet', 'none'],\n",
       "                         'solver': ['liblinear', 'saga']})"
      ]
     },
     "execution_count": 65,
     "metadata": {},
     "output_type": "execute_result"
    }
   ],
   "source": [
    "grid_search.fit(x_train,y_train)"
   ]
  },
  {
   "cell_type": "code",
   "execution_count": 66,
   "id": "3cc2e4b6",
   "metadata": {},
   "outputs": [
    {
     "name": "stdout",
     "output_type": "stream",
     "text": [
      "{'C': 0.001, 'fit_intercept': True, 'multi_class': 'auto', 'penalty': 'none', 'solver': 'saga'}\n"
     ]
    }
   ],
   "source": [
    "my_best_parameter = grid_search.best_params_\n",
    "print(my_best_parameter)"
   ]
  },
  {
   "cell_type": "code",
   "execution_count": 67,
   "id": "d4535325",
   "metadata": {},
   "outputs": [],
   "source": [
    "final_model = LogisticRegression(C= 0.01, fit_intercept= True,multi_class= 'auto',penalty='none',solver='saga')"
   ]
  },
  {
   "cell_type": "code",
   "execution_count": 68,
   "id": "19087532",
   "metadata": {},
   "outputs": [],
   "source": [
    "final_model.fit(x_train,y_train)\n",
    "prediction = final_model.predict(x_test)\n"
   ]
  },
  {
   "cell_type": "code",
   "execution_count": 69,
   "id": "618e9d57",
   "metadata": {},
   "outputs": [
    {
     "data": {
      "text/plain": [
       "0.8054735712369198"
      ]
     },
     "execution_count": 69,
     "metadata": {},
     "output_type": "execute_result"
    }
   ],
   "source": [
    "lg.score(x_train,y_train)"
   ]
  },
  {
   "cell_type": "code",
   "execution_count": 70,
   "id": "6c17a4b5",
   "metadata": {},
   "outputs": [
    {
     "data": {
      "text/plain": [
       "0.7553191489361702"
      ]
     },
     "execution_count": 70,
     "metadata": {},
     "output_type": "execute_result"
    }
   ],
   "source": [
    "lg.score(x_test,y_test)"
   ]
  },
  {
   "cell_type": "code",
   "execution_count": 71,
   "id": "cb5b19b1",
   "metadata": {},
   "outputs": [
    {
     "data": {
      "image/png": "[encoded data removed]",
      "text/plain": [
       "<Figure size 640x480 with 1 Axes>"
      ]
     },
     "metadata": {},
     "output_type": "display_data"
    }
   ],
   "source": [
    "plt.scatter(y_test,y_pred)\n",
    "plt.xlabel('actual')\n",
    "plt.ylabel('prediction')\n",
    "plt.title('Actual vs predicted')\n",
    "plt.show()"
   ]
  },
  {
   "cell_type": "code",
   "execution_count": 72,
   "id": "2280550d",
   "metadata": {},
   "outputs": [
    {
     "name": "stdout",
     "output_type": "stream",
     "text": [
      "R2 score: 0.9935838423162353\n",
      "Mean absolute Error: 86048.02002503129\n",
      "Mean squared Error: 128524090458.3154\n",
      "Root mean squared Error: 358502.5668782797\n"
     ]
    }
   ],
   "source": [
    "print ('R2 score:', r2_score(y_test,prediction))\n",
    "print ('Mean absolute Error:', mean_absolute_error(y_test,prediction))\n",
    "print ('Mean squared Error:', mean_squared_error(y_test,prediction))\n",
    "print ('Root mean squared Error:', np.sqrt(mean_squared_error(y_test,prediction)))"
   ]
  },
  {
   "cell_type": "code",
   "execution_count": 73,
   "id": "98bf6d1b",
   "metadata": {},
   "outputs": [],
   "source": [
    "import joblib\n",
    "import pickle\n",
    "filename = 'Rent1.pkl'\n",
    "pickle.dump(final_model,open(filename,'wb'))"
   ]
  },
  {
   "cell_type": "code",
   "execution_count": 74,
   "id": "7cd7bd85",
   "metadata": {},
   "outputs": [
    {
     "name": "stdout",
     "output_type": "stream",
     "text": [
      "86.67083854818523\n"
     ]
    }
   ],
   "source": [
    "import pickle\n",
    "loaded_final_model=pickle.load(open(filename,'rb'))\n",
    "result = loaded_final_model.score(x_test,y_test)\n",
    "print(result*100)"
   ]
  },
  {
   "cell_type": "code",
   "execution_count": 75,
   "id": "0e5f3ec4",
   "metadata": {},
   "outputs": [],
   "source": [
    "Features2 = New_Data.drop(columns = ['Area'])\n",
    "Label2 = New_Data['Area']"
   ]
  },
  {
   "cell_type": "code",
   "execution_count": 76,
   "id": "f9668411",
   "metadata": {},
   "outputs": [
    {
     "data": {
      "text/html": [
       "<div>\n",
       "<style scoped>\n",
       "    .dataframe tbody tr th:only-of-type {\n",
       "        vertical-align: middle;\n",
       "    }\n",
       "\n",
       "    .dataframe tbody tr th {\n",
       "        vertical-align: top;\n",
       "    }\n",
       "\n",
       "    .dataframe thead th {\n",
       "        text-align: right;\n",
       "    }\n",
       "</style>\n",
       "<table border=\"1\" class=\"dataframe\">\n",
       "  <thead>\n",
       "    <tr style=\"text-align: right;\">\n",
       "      <th></th>\n",
       "      <th>Address</th>\n",
       "      <th>City</th>\n",
       "      <th>Country</th>\n",
       "      <th>Bed</th>\n",
       "      <th>Bath</th>\n",
       "      <th>Pets</th>\n",
       "      <th>Dishwasher</th>\n",
       "      <th>AC</th>\n",
       "      <th>Postal_code</th>\n",
       "      <th>Price</th>\n",
       "    </tr>\n",
       "  </thead>\n",
       "  <tbody>\n",
       "    <tr>\n",
       "      <th>0</th>\n",
       "      <td>46.0</td>\n",
       "      <td>70.0</td>\n",
       "      <td>17.0</td>\n",
       "      <td>4.0</td>\n",
       "      <td>5.0</td>\n",
       "      <td>4.0</td>\n",
       "      <td>10.0</td>\n",
       "      <td>7.0</td>\n",
       "      <td>8.193213</td>\n",
       "      <td>207550.0</td>\n",
       "    </tr>\n",
       "    <tr>\n",
       "      <th>1</th>\n",
       "      <td>100.0</td>\n",
       "      <td>87.0</td>\n",
       "      <td>28.0</td>\n",
       "      <td>0.0</td>\n",
       "      <td>1.0</td>\n",
       "      <td>4.0</td>\n",
       "      <td>10.0</td>\n",
       "      <td>7.0</td>\n",
       "      <td>1.000000</td>\n",
       "      <td>1471162.0</td>\n",
       "    </tr>\n",
       "    <tr>\n",
       "      <th>2</th>\n",
       "      <td>45.0</td>\n",
       "      <td>87.0</td>\n",
       "      <td>28.0</td>\n",
       "      <td>3.0</td>\n",
       "      <td>5.0</td>\n",
       "      <td>4.0</td>\n",
       "      <td>10.0</td>\n",
       "      <td>7.0</td>\n",
       "      <td>1.000000</td>\n",
       "      <td>1471162.0</td>\n",
       "    </tr>\n",
       "    <tr>\n",
       "      <th>3</th>\n",
       "      <td>33.0</td>\n",
       "      <td>87.0</td>\n",
       "      <td>28.0</td>\n",
       "      <td>3.0</td>\n",
       "      <td>4.0</td>\n",
       "      <td>4.0</td>\n",
       "      <td>10.0</td>\n",
       "      <td>7.0</td>\n",
       "      <td>13.827823</td>\n",
       "      <td>174342.0</td>\n",
       "    </tr>\n",
       "    <tr>\n",
       "      <th>4</th>\n",
       "      <td>56.0</td>\n",
       "      <td>87.0</td>\n",
       "      <td>28.0</td>\n",
       "      <td>3.0</td>\n",
       "      <td>4.0</td>\n",
       "      <td>4.0</td>\n",
       "      <td>10.0</td>\n",
       "      <td>7.0</td>\n",
       "      <td>1.000000</td>\n",
       "      <td>1471162.0</td>\n",
       "    </tr>\n",
       "  </tbody>\n",
       "</table>\n",
       "</div>"
      ],
      "text/plain": [
       "   Address  City  Country  Bed  Bath  Pets  Dishwasher   AC  Postal_code  \\\n",
       "0     46.0  70.0     17.0  4.0   5.0   4.0        10.0  7.0     8.193213   \n",
       "1    100.0  87.0     28.0  0.0   1.0   4.0        10.0  7.0     1.000000   \n",
       "2     45.0  87.0     28.0  3.0   5.0   4.0        10.0  7.0     1.000000   \n",
       "3     33.0  87.0     28.0  3.0   4.0   4.0        10.0  7.0    13.827823   \n",
       "4     56.0  87.0     28.0  3.0   4.0   4.0        10.0  7.0     1.000000   \n",
       "\n",
       "       Price  \n",
       "0   207550.0  \n",
       "1  1471162.0  \n",
       "2  1471162.0  \n",
       "3   174342.0  \n",
       "4  1471162.0  "
      ]
     },
     "execution_count": 76,
     "metadata": {},
     "output_type": "execute_result"
    }
   ],
   "source": [
    "Features2.head()"
   ]
  },
  {
   "cell_type": "code",
   "execution_count": 77,
   "id": "73b47fd9",
   "metadata": {},
   "outputs": [
    {
     "data": {
      "text/html": [
       "<div>\n",
       "<style scoped>\n",
       "    .dataframe tbody tr th:only-of-type {\n",
       "        vertical-align: middle;\n",
       "    }\n",
       "\n",
       "    .dataframe tbody tr th {\n",
       "        vertical-align: top;\n",
       "    }\n",
       "\n",
       "    .dataframe thead th {\n",
       "        text-align: right;\n",
       "    }\n",
       "</style>\n",
       "<table border=\"1\" class=\"dataframe\">\n",
       "  <thead>\n",
       "    <tr style=\"text-align: right;\">\n",
       "      <th></th>\n",
       "      <th>Address</th>\n",
       "      <th>City</th>\n",
       "      <th>Country</th>\n",
       "      <th>Bed</th>\n",
       "      <th>Bath</th>\n",
       "      <th>Pets</th>\n",
       "      <th>Dishwasher</th>\n",
       "      <th>AC</th>\n",
       "      <th>Postal_code</th>\n",
       "      <th>Price</th>\n",
       "    </tr>\n",
       "  </thead>\n",
       "  <tbody>\n",
       "    <tr>\n",
       "      <th>0</th>\n",
       "      <td>-1.122526</td>\n",
       "      <td>0.120787</td>\n",
       "      <td>-0.972603</td>\n",
       "      <td>-0.051407</td>\n",
       "      <td>0.380205</td>\n",
       "      <td>0.707381</td>\n",
       "      <td>-0.106940</td>\n",
       "      <td>0.901008</td>\n",
       "      <td>0.878562</td>\n",
       "      <td>-2.837749e-01</td>\n",
       "    </tr>\n",
       "    <tr>\n",
       "      <th>1</th>\n",
       "      <td>-0.441355</td>\n",
       "      <td>0.886272</td>\n",
       "      <td>0.864613</td>\n",
       "      <td>-1.127012</td>\n",
       "      <td>-0.658713</td>\n",
       "      <td>0.707381</td>\n",
       "      <td>-0.106940</td>\n",
       "      <td>0.901008</td>\n",
       "      <td>-0.705248</td>\n",
       "      <td>1.453303e-07</td>\n",
       "    </tr>\n",
       "    <tr>\n",
       "      <th>2</th>\n",
       "      <td>-1.135140</td>\n",
       "      <td>0.886272</td>\n",
       "      <td>0.864613</td>\n",
       "      <td>-0.320308</td>\n",
       "      <td>0.380205</td>\n",
       "      <td>0.707381</td>\n",
       "      <td>-0.106940</td>\n",
       "      <td>0.901008</td>\n",
       "      <td>-0.705248</td>\n",
       "      <td>1.453303e-07</td>\n",
       "    </tr>\n",
       "    <tr>\n",
       "      <th>3</th>\n",
       "      <td>-1.286512</td>\n",
       "      <td>0.886272</td>\n",
       "      <td>0.864613</td>\n",
       "      <td>-0.320308</td>\n",
       "      <td>0.120476</td>\n",
       "      <td>0.707381</td>\n",
       "      <td>-0.106940</td>\n",
       "      <td>0.901008</td>\n",
       "      <td>2.119198</td>\n",
       "      <td>-2.912326e-01</td>\n",
       "    </tr>\n",
       "    <tr>\n",
       "      <th>4</th>\n",
       "      <td>-0.996383</td>\n",
       "      <td>0.886272</td>\n",
       "      <td>0.864613</td>\n",
       "      <td>-0.320308</td>\n",
       "      <td>0.120476</td>\n",
       "      <td>0.707381</td>\n",
       "      <td>-0.106940</td>\n",
       "      <td>0.901008</td>\n",
       "      <td>-0.705248</td>\n",
       "      <td>1.453303e-07</td>\n",
       "    </tr>\n",
       "    <tr>\n",
       "      <th>...</th>\n",
       "      <td>...</td>\n",
       "      <td>...</td>\n",
       "      <td>...</td>\n",
       "      <td>...</td>\n",
       "      <td>...</td>\n",
       "      <td>...</td>\n",
       "      <td>...</td>\n",
       "      <td>...</td>\n",
       "      <td>...</td>\n",
       "      <td>...</td>\n",
       "    </tr>\n",
       "    <tr>\n",
       "      <th>5320</th>\n",
       "      <td>1.463401</td>\n",
       "      <td>1.786844</td>\n",
       "      <td>0.363554</td>\n",
       "      <td>-1.127012</td>\n",
       "      <td>-0.658713</td>\n",
       "      <td>-0.401808</td>\n",
       "      <td>-1.064013</td>\n",
       "      <td>-1.193869</td>\n",
       "      <td>-0.705248</td>\n",
       "      <td>-2.882420e-01</td>\n",
       "    </tr>\n",
       "    <tr>\n",
       "      <th>5321</th>\n",
       "      <td>-1.614483</td>\n",
       "      <td>0.120787</td>\n",
       "      <td>0.363554</td>\n",
       "      <td>-0.589210</td>\n",
       "      <td>0.120476</td>\n",
       "      <td>-0.401808</td>\n",
       "      <td>-1.255427</td>\n",
       "      <td>-0.894601</td>\n",
       "      <td>-0.575913</td>\n",
       "      <td>-2.564465e-01</td>\n",
       "    </tr>\n",
       "    <tr>\n",
       "      <th>5322</th>\n",
       "      <td>-0.933312</td>\n",
       "      <td>-2.490871</td>\n",
       "      <td>0.363554</td>\n",
       "      <td>0.486396</td>\n",
       "      <td>2.458042</td>\n",
       "      <td>0.707381</td>\n",
       "      <td>-0.106940</td>\n",
       "      <td>2.098081</td>\n",
       "      <td>-0.370607</td>\n",
       "      <td>-3.215199e-01</td>\n",
       "    </tr>\n",
       "    <tr>\n",
       "      <th>5323</th>\n",
       "      <td>0.063216</td>\n",
       "      <td>-0.554642</td>\n",
       "      <td>0.363554</td>\n",
       "      <td>0.486396</td>\n",
       "      <td>-0.658713</td>\n",
       "      <td>0.707381</td>\n",
       "      <td>-0.106940</td>\n",
       "      <td>2.098081</td>\n",
       "      <td>-0.705248</td>\n",
       "      <td>-3.227186e-01</td>\n",
       "    </tr>\n",
       "    <tr>\n",
       "      <th>5324</th>\n",
       "      <td>0.883144</td>\n",
       "      <td>0.165815</td>\n",
       "      <td>0.363554</td>\n",
       "      <td>0.755297</td>\n",
       "      <td>2.458042</td>\n",
       "      <td>0.707381</td>\n",
       "      <td>-0.106940</td>\n",
       "      <td>2.098081</td>\n",
       "      <td>-0.705248</td>\n",
       "      <td>-3.246702e-01</td>\n",
       "    </tr>\n",
       "  </tbody>\n",
       "</table>\n",
       "<p>5325 rows × 10 columns</p>\n",
       "</div>"
      ],
      "text/plain": [
       "       Address      City   Country       Bed      Bath      Pets  Dishwasher  \\\n",
       "0    -1.122526  0.120787 -0.972603 -0.051407  0.380205  0.707381   -0.106940   \n",
       "1    -0.441355  0.886272  0.864613 -1.127012 -0.658713  0.707381   -0.106940   \n",
       "2    -1.135140  0.886272  0.864613 -0.320308  0.380205  0.707381   -0.106940   \n",
       "3    -1.286512  0.886272  0.864613 -0.320308  0.120476  0.707381   -0.106940   \n",
       "4    -0.996383  0.886272  0.864613 -0.320308  0.120476  0.707381   -0.106940   \n",
       "...        ...       ...       ...       ...       ...       ...         ...   \n",
       "5320  1.463401  1.786844  0.363554 -1.127012 -0.658713 -0.401808   -1.064013   \n",
       "5321 -1.614483  0.120787  0.363554 -0.589210  0.120476 -0.401808   -1.255427   \n",
       "5322 -0.933312 -2.490871  0.363554  0.486396  2.458042  0.707381   -0.106940   \n",
       "5323  0.063216 -0.554642  0.363554  0.486396 -0.658713  0.707381   -0.106940   \n",
       "5324  0.883144  0.165815  0.363554  0.755297  2.458042  0.707381   -0.106940   \n",
       "\n",
       "            AC  Postal_code         Price  \n",
       "0     0.901008     0.878562 -2.837749e-01  \n",
       "1     0.901008    -0.705248  1.453303e-07  \n",
       "2     0.901008    -0.705248  1.453303e-07  \n",
       "3     0.901008     2.119198 -2.912326e-01  \n",
       "4     0.901008    -0.705248  1.453303e-07  \n",
       "...        ...          ...           ...  \n",
       "5320 -1.193869    -0.705248 -2.882420e-01  \n",
       "5321 -0.894601    -0.575913 -2.564465e-01  \n",
       "5322  2.098081    -0.370607 -3.215199e-01  \n",
       "5323  2.098081    -0.705248 -3.227186e-01  \n",
       "5324  2.098081    -0.705248 -3.246702e-01  \n",
       "\n",
       "[5325 rows x 10 columns]"
      ]
     },
     "execution_count": 77,
     "metadata": {},
     "output_type": "execute_result"
    }
   ],
   "source": [
    "scaler = StandardScaler()\n",
    "Features2 = pd.DataFrame(scaler.fit_transform(Features2),columns = Features2.columns)\n",
    "Features2"
   ]
  },
  {
   "cell_type": "code",
   "execution_count": 78,
   "id": "b43031f0",
   "metadata": {},
   "outputs": [
    {
     "data": {
      "text/html": [
       "<div>\n",
       "<style scoped>\n",
       "    .dataframe tbody tr th:only-of-type {\n",
       "        vertical-align: middle;\n",
       "    }\n",
       "\n",
       "    .dataframe tbody tr th {\n",
       "        vertical-align: top;\n",
       "    }\n",
       "\n",
       "    .dataframe thead th {\n",
       "        text-align: right;\n",
       "    }\n",
       "</style>\n",
       "<table border=\"1\" class=\"dataframe\">\n",
       "  <thead>\n",
       "    <tr style=\"text-align: right;\">\n",
       "      <th></th>\n",
       "      <th>vif values</th>\n",
       "      <th>features2</th>\n",
       "    </tr>\n",
       "  </thead>\n",
       "  <tbody>\n",
       "    <tr>\n",
       "      <th>0</th>\n",
       "      <td>1.152567</td>\n",
       "      <td>Address</td>\n",
       "    </tr>\n",
       "    <tr>\n",
       "      <th>1</th>\n",
       "      <td>1.070937</td>\n",
       "      <td>City</td>\n",
       "    </tr>\n",
       "    <tr>\n",
       "      <th>2</th>\n",
       "      <td>1.148202</td>\n",
       "      <td>Country</td>\n",
       "    </tr>\n",
       "    <tr>\n",
       "      <th>3</th>\n",
       "      <td>1.115738</td>\n",
       "      <td>Bed</td>\n",
       "    </tr>\n",
       "    <tr>\n",
       "      <th>4</th>\n",
       "      <td>1.153506</td>\n",
       "      <td>Bath</td>\n",
       "    </tr>\n",
       "    <tr>\n",
       "      <th>5</th>\n",
       "      <td>1.186805</td>\n",
       "      <td>Pets</td>\n",
       "    </tr>\n",
       "    <tr>\n",
       "      <th>6</th>\n",
       "      <td>1.052633</td>\n",
       "      <td>Dishwasher</td>\n",
       "    </tr>\n",
       "    <tr>\n",
       "      <th>7</th>\n",
       "      <td>1.189577</td>\n",
       "      <td>AC</td>\n",
       "    </tr>\n",
       "    <tr>\n",
       "      <th>8</th>\n",
       "      <td>1.092463</td>\n",
       "      <td>Postal_code</td>\n",
       "    </tr>\n",
       "    <tr>\n",
       "      <th>9</th>\n",
       "      <td>1.054519</td>\n",
       "      <td>Price</td>\n",
       "    </tr>\n",
       "  </tbody>\n",
       "</table>\n",
       "</div>"
      ],
      "text/plain": [
       "   vif values    features2\n",
       "0    1.152567      Address\n",
       "1    1.070937         City\n",
       "2    1.148202      Country\n",
       "3    1.115738          Bed\n",
       "4    1.153506         Bath\n",
       "5    1.186805         Pets\n",
       "6    1.052633   Dishwasher\n",
       "7    1.189577           AC\n",
       "8    1.092463  Postal_code\n",
       "9    1.054519        Price"
      ]
     },
     "execution_count": 78,
     "metadata": {},
     "output_type": "execute_result"
    }
   ],
   "source": [
    "vif = pd.DataFrame()\n",
    "vif['vif values']= [variance_inflation_factor(Features2.values, i) for i in range(len(Features2.columns))]\n",
    "vif['features2'] = Features2.columns\n",
    "vif"
   ]
  },
  {
   "cell_type": "code",
   "execution_count": 79,
   "id": "de1e5f4d",
   "metadata": {},
   "outputs": [
    {
     "name": "stdout",
     "output_type": "stream",
     "text": [
      "maximum r2 score is = 0.25433619704823995 \n",
      " random state =  150\n"
     ]
    }
   ],
   "source": [
    "MaxAccu = 0\n",
    "MaxRS = 0\n",
    "for i in range(1,300):\n",
    "    x_train,x_test,y_train,y_test = train_test_split(Features2,Label2,test_size = .30, random_state = i)\n",
    "    lr= LinearRegression()\n",
    "    lr.fit(x_train,y_train)\n",
    "    pred = lr.predict(x_test)\n",
    "    acc = r2_score(y_test,pred)\n",
    "    if acc>MaxAccu:\n",
    "        MaxAccu = acc\n",
    "        MaxRS = i\n",
    "print('maximum r2 score is =',MaxAccu,'\\n random state = ',MaxRS)"
   ]
  },
  {
   "cell_type": "code",
   "execution_count": 80,
   "id": "88e98ba1",
   "metadata": {},
   "outputs": [],
   "source": [
    "x_train,x_test,y_train,y_test = train_test_split(Features,Label, test_size = 0.30, random_state = MaxRS)"
   ]
  },
  {
   "cell_type": "code",
   "execution_count": 81,
   "id": "6aaac5fd",
   "metadata": {},
   "outputs": [
    {
     "name": "stdout",
     "output_type": "stream",
     "text": [
      "R2 score: 0.9991295307839682\n",
      "R2 score on training Data: 0.996943576750388\n",
      "Mean absolute Error: 21545.05694618273\n",
      "Mean squared Error: 16881856789.39437\n",
      "Root mean squared Error: 129930.19968196143\n"
     ]
    }
   ],
   "source": [
    "knn = KNN()\n",
    "knn.fit(x_train,y_train)\n",
    "pred_knn = knn.predict(x_test)\n",
    "pred_train = knn.predict(x_train)\n",
    "print ('R2 score:', r2_score(y_test,pred_knn))\n",
    "print ('R2 score on training Data:',r2_score(y_train,pred_train))\n",
    "print ('Mean absolute Error:', mean_absolute_error(y_test,pred_knn))\n",
    "print ('Mean squared Error:', mean_squared_error(y_test,pred_knn))\n",
    "print ('Root mean squared Error:', np.sqrt(mean_squared_error(y_test,pred_knn)))"
   ]
  },
  {
   "cell_type": "code",
   "execution_count": 82,
   "id": "ffecc486",
   "metadata": {},
   "outputs": [
    {
     "name": "stdout",
     "output_type": "stream",
     "text": [
      "R2 score: 0.03502558786639476\n",
      "R2 score on training Data: 0.05877836168890771\n",
      "Mean absolute Error: 1765671.7191449846\n",
      "Mean squared Error: 18714688045296.88\n",
      "Root mean squared Error: 4326047.624020901\n"
     ]
    }
   ],
   "source": [
    "lr = LinearRegression()\n",
    "lr.fit(x_train,y_train)\n",
    "pred_lr = lr.predict(x_test)\n",
    "pred_train = lr.predict(x_train)\n",
    "print ('R2 score:', r2_score(y_test,pred_lr))\n",
    "print ('R2 score on training Data:',r2_score(y_train,pred_train))\n",
    "print ('Mean absolute Error:', mean_absolute_error(y_test,pred_lr))\n",
    "print ('Mean squared Error:', mean_squared_error(y_test,pred_lr))\n",
    "print ('Root mean squared Error:', np.sqrt(mean_squared_error(y_test,pred_lr)))"
   ]
  },
  {
   "cell_type": "code",
   "execution_count": 83,
   "id": "818ed25d",
   "metadata": {},
   "outputs": [
    {
     "name": "stdout",
     "output_type": "stream",
     "text": [
      "R2 score: 0.03502564103286476\n",
      "R2 score on training Data: 0.05877836168820816\n",
      "Mean absolute Error: 1765670.6576584396\n",
      "Mean squared Error: 18714687014187.773\n",
      "Root mean squared Error: 4326047.5048464015\n"
     ]
    }
   ],
   "source": [
    "la = Lasso()\n",
    "la.fit(x_train,y_train)\n",
    "pred_la = la.predict(x_test)\n",
    "pred_train = la.predict(x_train)\n",
    "print ('R2 score:', r2_score(y_test,pred_la))\n",
    "print ('R2 score on training Data:',r2_score(y_train,pred_train))\n",
    "print ('Mean absolute Error:', mean_absolute_error(y_test,pred_la))\n",
    "print ('Mean squared Error:', mean_squared_error(y_test,pred_la))\n",
    "print ('Root mean squared Error:', np.sqrt(mean_squared_error(y_test,pred_la)))"
   ]
  },
  {
   "cell_type": "code",
   "execution_count": 84,
   "id": "0cf735a8",
   "metadata": {},
   "outputs": [
    {
     "name": "stdout",
     "output_type": "stream",
     "text": [
      "R2 score: 99.13865299914413\n",
      "R2 score on training Data: 99.24553945442341\n",
      "Mean absolute Error: 12755628.160200251\n",
      "Mean squared Error: 16704940791256.695\n",
      "Root mean squared Error: 4087167.8202952095\n"
     ]
    }
   ],
   "source": [
    "lg = LogisticRegression()\n",
    "lg.fit(x_train,y_train)\n",
    "pred_lg = lg.predict(x_test)\n",
    "pred_train = lg.predict(x_train)\n",
    "print ('R2 score:', r2_score(y_test,pred_lg)*100)\n",
    "print ('R2 score on training Data:',r2_score(y_train,pred_train)*100)\n",
    "print ('Mean absolute Error:', mean_absolute_error(y_test,pred_lg)*100)\n",
    "print ('Mean squared Error:', mean_squared_error(y_test,pred_lg)*100)\n",
    "print ('Root mean squared Error:', np.sqrt(mean_squared_error(y_test,pred_lg)*100))"
   ]
  },
  {
   "cell_type": "code",
   "execution_count": 85,
   "id": "a0d98ca9",
   "metadata": {},
   "outputs": [
    {
     "name": "stdout",
     "output_type": "stream",
     "text": [
      "[ 0.0162371  -6.0435901   0.22398732  0.14672363 -0.46643669]\n",
      "-1.2246157487580063\n",
      "The difference r2 score and cross validation score =  125.9641336624401\n"
     ]
    }
   ],
   "source": [
    "score = cross_val_score(lr,Features2,Label2, cv = 5, scoring ='r2')\n",
    "print(score)\n",
    "print(score.mean())\n",
    "print('The difference r2 score and cross validation score = ', (r2_score(y_test,pred_lr)-score.mean())*100)"
   ]
  },
  {
   "cell_type": "code",
   "execution_count": 86,
   "id": "8c86a5e0",
   "metadata": {},
   "outputs": [
    {
     "name": "stdout",
     "output_type": "stream",
     "text": [
      "[-0.11897577  0.20370398 -0.43909109  0.58139251 -0.51127929]\n",
      "-0.056849931367948005\n",
      "The difference r2 score and cross validation score =  105.59794621519161\n"
     ]
    }
   ],
   "source": [
    "score = cross_val_score(knn,Features2,Label2, cv = 5, scoring ='r2')\n",
    "print(score)\n",
    "print(score.mean())\n",
    "print('The difference r2 score and cross validation score = ', (r2_score(y_test,pred_knn)-score.mean())*100)"
   ]
  },
  {
   "cell_type": "code",
   "execution_count": 87,
   "id": "88bd728c",
   "metadata": {},
   "outputs": [
    {
     "name": "stdout",
     "output_type": "stream",
     "text": [
      "[ 0.03040891 -0.70347115  0.23469553  0.15853643 -0.33473834]\n",
      "-0.12291372562465404\n",
      "The difference r2 score and cross validation score =  15.793936665751879\n"
     ]
    }
   ],
   "source": [
    "score = cross_val_score(la,Features2,Label2, cv = 5, scoring ='r2')\n",
    "print(score)\n",
    "print(score.mean())\n",
    "print('The difference r2 score and cross validation score = ', (r2_score(y_test,pred_la)-score.mean())*100)"
   ]
  },
  {
   "cell_type": "code",
   "execution_count": 88,
   "id": "fc9ea412",
   "metadata": {},
   "outputs": [
    {
     "name": "stdout",
     "output_type": "stream",
     "text": [
      "[ 0.06934644 -0.19566414 -0.63848624  0.0213854  -0.10927496]\n",
      "-0.17053870158650417\n",
      "The difference r2 score and cross validation score =  116.19252315779454\n"
     ]
    }
   ],
   "source": [
    "score = cross_val_score(lg,Features2,Label2, cv = 5, scoring ='r2')\n",
    "print(score)\n",
    "print(score.mean())\n",
    "print('The difference r2 score and cross validation score = ', (r2_score(y_test,pred_lg)-score.mean())*100)"
   ]
  },
  {
   "cell_type": "code",
   "execution_count": 89,
   "id": "6819647d",
   "metadata": {},
   "outputs": [],
   "source": [
    "from sklearn.model_selection import GridSearchCV\n",
    "params_grid = {'alpha': [0.001, 0.01, 0.1, 1, 10],\n",
    "             'tol': [0.0001, 0.001, 0.01],\n",
    "             'fit_intercept': [True,False],\n",
    "            'positive': [True,False] \n",
    "               \n",
    "             }\n",
    "grid_search =GridSearchCV(estimator=la, param_grid = params_grid, cv = 5)\n"
   ]
  },
  {
   "cell_type": "code",
   "execution_count": 90,
   "id": "3210b8ab",
   "metadata": {},
   "outputs": [
    {
     "data": {
      "text/plain": [
       "GridSearchCV(cv=5, estimator=Lasso(),\n",
       "             param_grid={'alpha': [0.001, 0.01, 0.1, 1, 10],\n",
       "                         'fit_intercept': [True, False],\n",
       "                         'positive': [True, False],\n",
       "                         'tol': [0.0001, 0.001, 0.01]})"
      ]
     },
     "execution_count": 90,
     "metadata": {},
     "output_type": "execute_result"
    }
   ],
   "source": [
    "grid_search.fit(x_train,y_train)"
   ]
  },
  {
   "cell_type": "code",
   "execution_count": 91,
   "id": "95aa1689",
   "metadata": {},
   "outputs": [
    {
     "name": "stdout",
     "output_type": "stream",
     "text": [
      "{'alpha': 10, 'fit_intercept': True, 'positive': False, 'tol': 0.001}\n"
     ]
    }
   ],
   "source": [
    "my_best_parameter = grid_search.best_params_\n",
    "print(my_best_parameter)"
   ]
  },
  {
   "cell_type": "code",
   "execution_count": 92,
   "id": "fbe8003e",
   "metadata": {},
   "outputs": [],
   "source": [
    "final_model2 = Lasso(alpha= 10, fit_intercept= True,positive= False,tol=0.01)"
   ]
  },
  {
   "cell_type": "code",
   "execution_count": 93,
   "id": "41b531a6",
   "metadata": {},
   "outputs": [],
   "source": [
    "final_model2.fit(x_train,y_train)\n",
    "prediction = final_model2.predict(x_test)\n"
   ]
  },
  {
   "cell_type": "code",
   "execution_count": 94,
   "id": "6a242357",
   "metadata": {},
   "outputs": [
    {
     "data": {
      "image/png": "[encoded data removed]",
      "text/plain": [
       "<Figure size 640x480 with 1 Axes>"
      ]
     },
     "metadata": {},
     "output_type": "display_data"
    }
   ],
   "source": [
    "plt.scatter(y_test,y_pred)\n",
    "plt.xlabel('actual')\n",
    "plt.ylabel('prediction')\n",
    "plt.title('Actual vs predicted')\n",
    "plt.show()"
   ]
  },
  {
   "cell_type": "code",
   "execution_count": 95,
   "id": "bcf8108d",
   "metadata": {},
   "outputs": [
    {
     "name": "stdout",
     "output_type": "stream",
     "text": [
      "R2 score: 0.03502611922036025\n",
      "Mean absolute Error: 1765661.0331877933\n",
      "Mean squared Error: 18714677740232.227\n",
      "Root mean squared Error: 4326046.432972285\n"
     ]
    }
   ],
   "source": [
    "final_model2.fit(x_train,y_train)\n",
    "prediction = final_model2.predict(x_test)\n",
    "print ('R2 score:', r2_score(y_test,prediction))\n",
    "print ('Mean absolute Error:', mean_absolute_error(y_test,prediction))\n",
    "print ('Mean squared Error:', mean_squared_error(y_test,prediction))\n",
    "print ('Root mean squared Error:', np.sqrt(mean_squared_error(y_test,prediction)))"
   ]
  },
  {
   "cell_type": "code",
   "execution_count": 96,
   "id": "1af74154",
   "metadata": {},
   "outputs": [],
   "source": [
    "import joblib\n",
    "import pickle\n",
    "filename = 'Rent.pkl'\n",
    "pickle.dump(final_model2,open(filename,'wb'))"
   ]
  },
  {
   "cell_type": "code",
   "execution_count": 97,
   "id": "bcca4763",
   "metadata": {},
   "outputs": [
    {
     "name": "stdout",
     "output_type": "stream",
     "text": [
      "3.5026119220360252\n"
     ]
    }
   ],
   "source": [
    "import pickle\n",
    "loaded_final_model2=pickle.load(open(filename,'rb'))\n",
    "result = loaded_final_model2.score(x_test,y_test)\n",
    "print(result*100)"
   ]
  },
  {
   "cell_type": "markdown",
   "id": "5812d111",
   "metadata": {},
   "source": [
    "# EDA"
   ]
  },
  {
   "cell_type": "markdown",
   "id": "31e6ba19",
   "metadata": {},
   "source": [
    "1. The data consist of both float and object data type, in 5325 of 6 columns null values were \n",
    "   fixed and the data was separated into numerical and categorical data in other to deal check\n",
    "   for the relationship in only the numerical. \n",
    "2. The postal_code has outliers and was removed using quantile method\n",
    "3. The categorical column were converted using ordinal encoder\n",
    "4. After the ambiquos nan were also treated again\n",
    "5. I standardised the data afterward and check for cullinerity, which i discovered that there were no cullinerity\n",
    "6. Then proceded to train the data and all necessary scores was checked, then i settled for a model that has the lowest cross validation score as to\n",
    "   build my final model for both price and area prediction.\n",
    "7. Hyper parameter tunning was done in other to have a better model.\n",
    "8. But i discovered that i have high root mean square error, which might be caused by not having enough data to determined the prediction and this could\n",
    "   have happened during the the time of scrapping the data."
   ]
  },
  {
   "cell_type": "code",
   "execution_count": null,
   "id": "ac0d03c4",
   "metadata": {},
   "outputs": [],
   "source": []
  }
 ],
 "metadata": {
  "kernelspec": {
   "display_name": "Python 3 (ipykernel)",
   "language": "python",
   "name": "python3"
  },
  "language_info": {
   "codemirror_mode": {
    "name": "ipython",
    "version": 3
   },
   "file_extension": ".py",
   "mimetype": "text/x-python",
   "name": "python",
   "nbconvert_exporter": "python",
   "pygments_lexer": "ipython3",
   "version": "3.9.13"
  }
 },
 "nbformat": 4,
 "nbformat_minor": 5
}
